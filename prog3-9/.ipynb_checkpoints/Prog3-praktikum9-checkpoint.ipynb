{
 "cells": [
  {
   "cell_type": "markdown",
   "metadata": {},
   "source": [
    "# Aufgaben, Abgabe bis 14.12.2017"
   ]
  },
  {
   "cell_type": "markdown",
   "metadata": {},
   "source": [
    "## Einführung"
   ]
  },
  {
   "cell_type": "markdown",
   "metadata": {},
   "source": [
    "1. Finden Sie heraus, welche Studierenden in Ihrem Team bereits parallelisierte Anwendungen eingesetzt haben und wie diese Anwendungen heißen.\n",
    "\n",
    "    * Unter der Annahme das sich die Fragestellung allgmeinen die Verwendung von parallelisierten Anwendung meint,\n",
    "      so wurde bei uns unter anderem Videotranskodierung, Spiele, Systemstest(prime95), Virtualisierung\n",
    "\n",
    "\n",
    "1. Warum werden heute nicht alle Anwendungen grundsätzlich so programmiert, dass sie mehrere Prozessor-Kerne unterstützen?\n",
    "\n",
    "    * Wegen Abwärtskompatibilität, weil sie sich nicht parallelisieren lassen und damit dadurch im gegensatz zu parallelisierten Anwendungen schneller laufen\n",
    "    \n",
    "    \n",
    "1. Moderne Grafikkarten besitzen tausende von leistungsfähigen Rechen-Einheiten. Warum stattet man Rechner immer noch mit Prozessoren aus, statt die Grafikkarten für alle Anwendungen einzusetzen?\n",
    "\n",
    "    * Grafikkarten sind für Polygoneberechnung optimiert und eignen sich dadurch nicht für alle Aufgaben die eine normale CPU berechnen kann\n",
    "    \n",
    "    \n",
    "1. Welche Beschleunigung durch Parallelisierung erwarten Sie sich für die TSP-Implementierung? (Schätzung mit Begründung)\n",
    "\n",
    "    * "
   ]
  },
  {
   "cell_type": "markdown",
   "metadata": {},
   "source": [
    "# Threads und Prozesse"
   ]
  },
  {
   "cell_type": "markdown",
   "metadata": {},
   "source": [
    "1. **Freiwillig:** Schauen Sie sich die gegebenen C-Programme genauer an und finden Sie heraus, wie die Synchronisation stattfindet. Eine Recherche in Fachbüchern oder dem Internet kann dabei hilfreich sein.\n",
    "1. **Freiwillig:** Compilieren und starten Sie die C-Programme und analysieren Sie die Ausgabe des Programms auf einem der Rechner im Labor M3.03. Was bedeuten die Begriffe *real, user* und *sys* und wie erklären Sie sich die Unterschiede zwischen den verschiedenen Implementierung bezüglich der Ausgaben von *time*?\n",
    "1. Können Sie sich bei dem Beispiel zur Erzeugung von Prozessen darauf verlassen, dass \"hello p1\" *vor* \"hello p2\" ausgegeben wird? (Begründung)\n",
    "\n",
    "    * Nein weil die Threads nicht in einer bestimmt Reihenfolge vom System abgearbeitet werden\n",
    "    \n",
    "\n",
    "1. Beschreiben Sie (Text, Skizze), wie man die rekursive TSP-Implementierung unter Verwendung von Prozessen und *Pipes* parallelisieren könnte. Wäre diese Implementierung ihrer Meinung nach schlechter oder besser zu verstehen als die ANSI-C-Programme?\n",
    "\n",
    "    * "
   ]
  },
  {
   "cell_type": "markdown",
   "metadata": {},
   "source": [
    "## Das Module multiprocessing"
   ]
  },
  {
   "cell_type": "markdown",
   "metadata": {},
   "source": [
    "1. Arbeiten Sie die vorgegebenen Beispiele nochmals durch und stellen Sie ggf. Fragen an den Dozenten.\n",
    "2. Starten Sie die parallelisierten TSP-Berechnungen auf einem Rechner im Labor M2.02 und vergleichen Sie die Rechenzeiten mit der der nicht parallelisierten Version.\n",
    "\n",
    "    * Siehe TSP-TimeIt-Tests Notebook\n",
    "    \n",
    "    \n",
    "3. Warum wird die Aufgabe nicht in genau so viele Teilaufgaben unterteilt wie man CPU-Kerne hat?\n",
    "\n",
    "    * Weil das System dadurch nicht mehr in der Lage währe die anderen ebenfalls auf dem System vorhandenen und essentiell Anwendungen/Aufgaben zu berechnen, sie währe ja komplett belegt durch die Teilaufgaben. Erschwerend kommt noch  hinzu das die Verwaltung der Aufteilung ebenfalls berechnet werden muss.\n",
    "\n",
    "\n",
    "4. Was bewirkt der Befehl *inQueue.join()*?\n",
    "    * Sie sorgt dafür das die threads synchronisiert werden. Indem sie solange anhält bis alle Threads fertig sind.\n",
    "    \n",
    "    \n",
    "5. Erstellen Sie zwei parallelisierte Implementierung ihrer $\\pi$-Bistimmung nach Monte Carlo, wovon eine auf *map* und eine auf *Queues* basiert. Vergleichen Sie die Rechenzeiten mit denen ihrer bisherigen Version. Wurden Ihre Erwartungen bezüglich der Beschleunigung erfüllt?\n",
    "    * Siehe Monte Carlo Notebook   "
   ]
  },
  {
   "cell_type": "markdown",
   "metadata": {},
   "source": [
    "## Parallelisierung mit cython"
   ]
  },
  {
   "cell_type": "markdown",
   "metadata": {},
   "source": [
    "1. Was leistet OpenMP (siehe [hier](http://www.openmp.org/resources/tutorials-articles))?\n",
    "\n",
    "    * OpenMP ist eine API die Parallelisierung unter C/C++ bereitstellt und so auch unter Python mit Cython benutzt werden kann\n",
    "\n",
    "\n",
    "1. Welche Unterschiede gibt es zwischen der Parallelisierung mit *multiprocessing* und der Parallelisierung mit *cython* und *OpenMP*?\n",
    "\n",
    "    * ##  <span style=\"color:red\">Frage an dem Herrn Rösch</span>\n",
    "    \n",
    "    \n",
    "\n",
    "1. Analysieren Sie die oben angegebene Beispiele und stellen Sie ggf. Fragen an den Dozenten.\n",
    "1. Ergänzen Sie die vorgegebenen Beispiele so, dass auch die Schiefe (skewness) und die Wölbung (kurtosis) einer Menge von Zufallszahlen, die einem *numpy*-Array gespeichert sind, mit *cython* berechnet werden. Welche Beschleunigung durch Parallelisierung konnten Sie erreichen?\n",
    "\n",
    "    * Siehe Statistic Notebook\n",
    "    \n",
    "    "
   ]
  },
  {
   "cell_type": "markdown",
   "metadata": {},
   "source": [
    "# Überprüfung"
   ]
  },
  {
   "cell_type": "markdown",
   "metadata": {},
   "source": [
    "1. Was bedeutet *Synchronisation* im Zusammenhang mit der Parallelisierung von Computerprogrammen? (max. vier Sätze)\n",
    "1. Erklären Sie die wesentlichen Unterschiede zwischen Prozessen und Threads. (max. vier Sätze)\n",
    "1. Nennen Sie zwei wichtige Gründe, warum die parallelisierte Version eines Programms auf einem Rechner mit N Prozessor-Kernen in der Regel nicht um einen Faktor N schneller läuft. (ca. zwei Sätze)\n",
    "\n"
   ]
  }
 ],
 "metadata": {
  "kernelspec": {
   "display_name": "Python 3",
   "language": "python",
   "name": "python3"
  },
  "language_info": {
   "codemirror_mode": {
    "name": "ipython",
    "version": 3
   },
   "file_extension": ".py",
   "mimetype": "text/x-python",
   "name": "python",
   "nbconvert_exporter": "python",
   "pygments_lexer": "ipython3",
   "version": "3.6.3"
  }
 },
 "nbformat": 4,
 "nbformat_minor": 2
}
