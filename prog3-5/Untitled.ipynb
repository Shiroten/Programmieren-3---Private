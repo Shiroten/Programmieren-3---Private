{
 "cells": [
  {
   "cell_type": "markdown",
   "metadata": {},
   "source": [
    "1. Führen Sie Experimente mit der Anwendung *galaxy_renderer* durch.\n",
    "\n",
    "    A. Wie können Sie die Visualisierung in Ihre Gravitations-Simulation einbinden?\n",
    "    \n",
    "        siehe GruppenAbgaben (simulation_mockup durch eigene Implementierung ersetzen, auf die Pipes achten zur Datenübertragung)\n",
    "    \n",
    "    \n",
    "    B. Welche Bedeutung haben die Konstanten *_CAMERA_POSITION* und *_LIGHT_POSITION*?\n",
    "    \n",
    "        Beschreibt im drei Dimensionalen Raum wo sich die Lichtquelle und wo sich die virtuelle Kamera befinden.\n",
    "        \n",
    "        \n",
    "    C. Klären Sie offene Fragen mit dem Dozenten.\n",
    "    \n",
    "        Keine Aktuell\n",
    "    \n",
    "    \n",
    "1. Welche Struktur sollten PyQt-Anwendung haben, damit eine Umstellung auf ein anderes GUI-Toolkit (z.B. *gtk*) mit wenig Aufwand möglich ist? (Skizze, Papier/Bleistift)\n",
    "\n",
    "\n",
    "1. Erstellen Sie mit dem Designer und PyQt5 eine beeindruckende Demo-Anwendung, die viele unterschiedliche Qt-Widgets nutzt."
   ]
  },
  {
   "cell_type": "code",
   "execution_count": null,
   "metadata": {
    "collapsed": true
   },
   "outputs": [],
   "source": []
  }
 ],
 "metadata": {
  "kernelspec": {
   "display_name": "Python 3",
   "language": "python",
   "name": "python3"
  },
  "language_info": {
   "codemirror_mode": {
    "name": "ipython",
    "version": 3
   },
   "file_extension": ".py",
   "mimetype": "text/x-python",
   "name": "python",
   "nbconvert_exporter": "python",
   "pygments_lexer": "ipython3",
   "version": "3.6.3"
  },
  "latex_envs": {
   "LaTeX_envs_menu_present": true,
   "autocomplete": true,
   "bibliofile": "biblio.bib",
   "cite_by": "apalike",
   "current_citInitial": 1,
   "eqLabelWithNumbers": true,
   "eqNumInitial": 1,
   "hotkeys": {
    "equation": "Ctrl-E",
    "itemize": "Ctrl-I"
   },
   "labels_anchors": false,
   "latex_user_defs": false,
   "report_style_numbering": false,
   "user_envs_cfg": false
  }
 },
 "nbformat": 4,
 "nbformat_minor": 2
}
