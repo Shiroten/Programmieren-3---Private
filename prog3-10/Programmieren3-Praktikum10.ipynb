{
 "cells": [
  {
   "cell_type": "markdown",
   "metadata": {},
   "source": [
    "1. Mit welchen verteilten Systemen hatten Sie schon zu tun? (Liste)\n",
    "\n",
    "    * Bla\n",
    "    \n",
    "\n",
    "1. Warum finden sich an der Spitze der [Top 500 Supercomputer](http://www.top500.org) hauptsächlich Cluster?\n",
    "\n",
    "    * Bla2\n",
    "    \n",
    "    \n",
    "1. Gilt das Amdahlsche Gesetz auch für Berechnungen im Cluster? (Begründung)\n",
    "\n",
    "    *\n",
    "\n",
    "1. Überlegen Sie sich (Papier/Bleistift), wie Sie Ihre Gravitations-Simulation in einem Cluster rechnen können. Betrachten Sie dabei insbesondere folgende Aspekte:\n",
    "    1. Welche Gründe sprechen dafür, die Berechnung in einem Cluster durchzuführen?\n",
    "    \n",
    "        *\n",
    "    \n",
    "    1. Welche Daten müssen zwischen den beteiligten Rechnern mindestens ausgetauscht werden?\n",
    "    \n",
    "        *\n",
    "    \n",
    "    1. Stellen Sie den Fluß der Daten in einem Diagramm dar (Von wo nach wo fließen welche Daten in welcher zeitlichen Abfolge?).\n",
    "    \n",
    "        *\n",
    "    \n",
    "    1. Welche zusätzlichen Herausforderungen stellen sich für eine verteilte Berechnung im Vergleich zur Parallelisierung mit *multiprocessing.map*?\n",
    "    \n",
    "        *"
   ]
  },
  {
   "cell_type": "markdown",
   "metadata": {},
   "source": [
    "1. Vergegenwärtigen Sie sich nochmals die Struktur und Funktionsweise der im Rahmen der Vorlesung vorgestellten verteilten Gravitations-Simulation, die [Ice](http://www.zeroc.com) verwendet.\n",
    "1. Nennen und beschreiben Sie zwei wichtige Vorteile, die Entwickler durch den Einsatz einer Middleware haben? (ca. vier Sätze)\n",
    "\n",
    "    *\n",
    "\n",
    "1. Was leistet die Middleware *ice* von [zeroc](https://zeroc.com)? (ca. fünf Sätze)\n",
    "\n",
    "    *\n",
    "\n",
    "1. Wozu wird [*slice*](http://doc.zeroc.com/display/Ice/The+Slice+Language) benötigt? (ca. vier Sätze)\n",
    "\n",
    "    *\n",
    "\n",
    "1. Welche Gründe sprechen *gegen* den Einsatz von Middleware in kleineren Projekten? (ca. vier Sätze)\n",
    "\n",
    "    *"
   ]
  },
  {
   "cell_type": "markdown",
   "metadata": {},
   "source": [
    "1. Diskutieren Sie mit anderen Studierenden die Funktionsweise des angegebenen Beispiels.\n",
    "1. Welche Gemeinsamkeiten und Unterschiede bestehen zwischen der in der letzten Vorlesung vorgestellten Parallelisierung mittels *Joinable Queues* und der oben angegebenen Verteilung mittels der Klasse *distributed Queue*?\n",
    "\n",
    "    *\n",
    "\n",
    "1. Verwenden Sie die angegebenen Python-Klassen und -Funktionen als Vorlage und implementieren Sie eine verteilte Version Ihrer Monte Carlo-Simulation zur Berechnung der Zahl $\\pi$. \n",
    "\n",
    "    * Siehe Monte-Carlo-Multiprocessing-Cluster Notebook\n",
    "    \n",
    "\n",
    "1. Bauen Sie mit den Rechnern im Labor M3.03 ein Cluster auf und messen Sie die Beschleunigungen, die Sie für die beiden Beispiele \"TSP\" und \"Monte Carlo-Simulation zur Berechnung der Zahl $\\pi$\" mit *multiprocessing* erreicht haben.\n",
    "\n",
    "    * ToDo am 18.12.2017"
   ]
  },
  {
   "cell_type": "markdown",
   "metadata": {},
   "source": [
    "1. Welche Aufgaben, um die Sie sich mit *multiprocessing* selbst kümmern müssen, werden Ihnen von *IPython.parallel* abgenommen?\n",
    "\n",
    "    *\n",
    "    \n",
    "1. Verteilen Sie Ihre Monte Carlo-Simulation unter Verwendung des Pakets *IPython.parallel*. Verwenden Sie dabei die gegebene Anwendung zum TSP als Vorlage.\n",
    "\n",
    "    * Siehe Monte-Carlo-Ipython-Cluster Notebook\n",
    "\n",
    "\n",
    "1. Bauen Sie mit den Rechnern im Labor M3.03 ein Cluster auf und messen Sie die Beschleunigungen, die Sie für die beiden Beispiele \"TSP\" und \"Monte Carlo-Simulation zur Berechnung der Zahl $\\pi$\" mit *Ipython.parallel* erreicht haben. Vergleichen Sie Ihre Ergebnisse mit denen aus der entsprechenden Aufgabe zum Thema \"Multiprocessing\".\n",
    "\n",
    "    * ToDo am 18.12.2017\n",
    "\n",
    "\n",
    "1. Verschaffen Sie sich anhand der [Dokumentation](http://ipython.org/ipython-doc/stable/parallel/parallel_intro.html) einen Überblick über die Möglichkeiten, die Ihnen das Paket *Ipython.parallel* bietet."
   ]
  },
  {
   "cell_type": "markdown",
   "metadata": {},
   "source": [
    "1. Was bedeutet der Begriff \"Remote Procedure Call\" (RPC)? (max. drei Sätze)\n",
    "\n",
    "    *\n",
    "\n",
    "1. Sie wollen eine Berechnung, die Sie auf einem Rechner mit *multiprocessing* parallelisiert haben, auf mehrere Rechner verteilen. Auf welche Faktoren müssen Sie achten, damit die Verteilung zu einer Verkürzung der Rechenzeit führt? (ca. vier Sätze)\n",
    "\n",
    "    *\n",
    "\n",
    "1. Was bedeutet der Begriff Lastverteilung (\"load balancing\")? (max. fünf Sätze)\n",
    "\n",
    "    *\n",
    "\n",
    "1. Geben Sie ein Beispiel für ein parallelisierbares Problem, das sich *nicht* für eine Verteilung auf mehrere Rechner eignet. (ca. vier Sätze)\n",
    "\n",
    "    *\n",
    "\n",
    "1. Geben Sie ein Beispiel an, in dem eine Kombination der Parallelisierung mit *cython* und der Verteilung mit *IPython* sinnvoll ist.\n",
    "\n",
    "    *"
   ]
  },
  {
   "cell_type": "code",
   "execution_count": null,
   "metadata": {
    "collapsed": true
   },
   "outputs": [],
   "source": []
  }
 ],
 "metadata": {
  "kernelspec": {
   "display_name": "Python 3",
   "language": "python",
   "name": "python3"
  },
  "language_info": {
   "codemirror_mode": {
    "name": "ipython",
    "version": 3
   },
   "file_extension": ".py",
   "mimetype": "text/x-python",
   "name": "python",
   "nbconvert_exporter": "python",
   "pygments_lexer": "ipython3",
   "version": "3.6.3"
  }
 },
 "nbformat": 4,
 "nbformat_minor": 2
}
