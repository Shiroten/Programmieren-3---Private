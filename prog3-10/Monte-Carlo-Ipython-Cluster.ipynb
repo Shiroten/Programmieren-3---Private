{
 "cells": [
  {
   "cell_type": "code",
   "execution_count": null,
   "metadata": {
    "collapsed": true
   },
   "outputs": [],
   "source": [
    "%load_ext cython"
   ]
  },
  {
   "cell_type": "code",
   "execution_count": null,
   "metadata": {
    "collapsed": true
   },
   "outputs": [],
   "source": [
    "%%cython -a\n",
    "from libc.stdlib cimport rand, srand, RAND_MAX\n",
    "cimport cython\n",
    "\n",
    "cpdef monte_carlo(quantity, seed):\n",
    "    return cdef_monte_carlo(quantity, seed)\n",
    "\n",
    "@cython.cdivision(True)\n",
    "cdef int cdef_monte_carlo(int quantity, int seed):\n",
    "    cdef int hits = 0\n",
    "    cdef double width = 0.0\n",
    "    cdef double height = 0.0\n",
    "    cdef double temp = 0.0\n",
    "    srand(seed)\n",
    "    \n",
    "    for _ in range(quantity):\n",
    "        width = <double>rand()/RAND_MAX\n",
    "        height = <double>rand()/RAND_MAX\n",
    "        if width * width + height * height < 1:\n",
    "            hits += 1\n",
    "\n",
    "    return hits"
   ]
  },
  {
   "cell_type": "code",
   "execution_count": null,
   "metadata": {
    "collapsed": true
   },
   "outputs": [],
   "source": [
    "def worker_monte_carlo(q_in, q_out):\n",
    "    while True:\n",
    "        arguments = q_in.get()\n",
    "        x, y = arguments\n",
    "        result = monte_carlo(x,y)\n",
    "        q_out.put(result)\n",
    "        q_in.task_done()"
   ]
  },
  {
   "cell_type": "code",
   "execution_count": null,
   "metadata": {
    "collapsed": true
   },
   "outputs": [],
   "source": [
    "import multiprocessing\n",
    "import math\n",
    "import random\n",
    "nrOfCores = multiprocessing.cpu_count()\n",
    "print('nrOfCores:', nrOfCores)\n",
    "\n",
    "l = []\n",
    "for i in range (128):\n",
    "    random_number = int(random.random() * (2**31 -1))\n",
    "    l.append((2_500_000, random_number))"
   ]
  },
  {
   "cell_type": "code",
   "execution_count": null,
   "metadata": {
    "collapsed": true
   },
   "outputs": [],
   "source": [
    "in_queue = multiprocessing.JoinableQueue()\n",
    "result_queue = multiprocessing.Queue()\n",
    "\n",
    "processes = []\n",
    "for i in range(nrOfCores):\n",
    "    p = multiprocessing.Process(target = worker_monte_carlo, \n",
    "                                args = (in_queue, result_queue))\n",
    "    processes.append(p)\n",
    "    p.start()\n",
    "    \n",
    "for parameter_set in l:\n",
    "    in_queue.put(parameter_set)\n",
    "    \n",
    "import time\n",
    "\n",
    "in_queue.join()\n",
    "\n",
    "result_list = []\n",
    "while not result_queue.empty():\n",
    "    result_list.append(result_queue.get())\n",
    "\n",
    "print(result_list)\n",
    "\n",
    "hits = 0\n",
    "trys = 0\n",
    "\n",
    "for e in l:\n",
    "    x, y = e\n",
    "    trys += x\n",
    "\n",
    "for result_tuple in result_list:\n",
    "    hits += result_tuple\n",
    "\n",
    "    \n",
    "print((hits)/trys * 4)\n",
    "for p in processes:\n",
    "    p.terminate()"
   ]
  },
  {
   "cell_type": "markdown",
   "metadata": {},
   "source": [
    "## TimeIt"
   ]
  },
  {
   "cell_type": "code",
   "execution_count": null,
   "metadata": {
    "collapsed": true
   },
   "outputs": [],
   "source": [
    "%%timeit\n",
    "\n",
    "import multiprocessing\n",
    "in_queue = multiprocessing.JoinableQueue()\n",
    "result_queue = multiprocessing.Queue()\n",
    "\n",
    "processes = []\n",
    "for i in range(nrOfCores):\n",
    "    p = multiprocessing.Process(target = worker_monte_carlo, \n",
    "                                args = (in_queue, result_queue))\n",
    "    processes.append(p)\n",
    "    p.start()\n",
    "    \n",
    "for parameter_set in l:\n",
    "    in_queue.put(parameter_set)\n",
    "    \n",
    "import time\n",
    "\n",
    "in_queue.join()\n",
    "\n",
    "result_list = []\n",
    "while not result_queue.empty():\n",
    "    result_list.append(result_queue.get())\n",
    "\n",
    "print(result_list)\n",
    "\n",
    "hits = 0\n",
    "trys = 0\n",
    "\n",
    "for e in l:\n",
    "    x, y = e\n",
    "    trys += x\n",
    "\n",
    "for result in result_list:\n",
    "    hits += result\n",
    "    \n",
    "print((hits)/trys * 4)\n",
    "for p in processes:\n",
    "    p.terminate()\n",
    "    \n",
    "#5.96 s ± 33.2 ms per loop (mean ± std. dev. of 7 runs, 1 loop each)\n",
    "#6.03 s ± 70.3 ms per loop (mean ± std. dev. of 7 runs, 1 loop each)\n",
    "#5.9 s ± 38.5 ms per loop (mean ± std. dev. of 7 runs, 1 loop each)\n",
    "\n",
    "#without hypot\n",
    "#1.94 s ± 5.1 ms per loop (mean ± std. dev. of 7 runs, 1 loop each)"
   ]
  }
 ],
 "metadata": {
  "kernelspec": {
   "display_name": "Python 3",
   "language": "python",
   "name": "python3"
  },
  "language_info": {
   "codemirror_mode": {
    "name": "ipython",
    "version": 3
   },
   "file_extension": ".py",
   "mimetype": "text/x-python",
   "name": "python",
   "nbconvert_exporter": "python",
   "pygments_lexer": "ipython3",
   "version": "3.6.3"
  }
 },
 "nbformat": 4,
 "nbformat_minor": 2
}
