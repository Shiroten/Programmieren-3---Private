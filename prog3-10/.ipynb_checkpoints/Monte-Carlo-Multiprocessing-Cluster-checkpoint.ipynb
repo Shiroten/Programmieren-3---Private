{
 "cells": [
  {
   "cell_type": "code",
   "execution_count": 45,
   "metadata": {},
   "outputs": [
    {
     "name": "stdout",
     "output_type": "stream",
     "text": [
      "Overwriting ./TaskmanagerCarlo.py\n"
     ]
    }
   ],
   "source": [
    "%%file ./TaskmanagerCarlo.py\n",
    "\n",
    "from __future__ import print_function\n",
    "\n",
    "from multiprocessing.managers import BaseManager\n",
    "from multiprocessing import JoinableQueue, Queue\n",
    "\n",
    "class TaskManager(BaseManager):\n",
    "    pass\n",
    "\n",
    "if __name__ == '__main__':\n",
    "    from sys import argv, exit\n",
    "    if len(argv) != 2:\n",
    "        print('usage:', argv[0], b'socket_nr')\n",
    "        exit(0)\n",
    "    master_socket = int(argv[1])\n",
    "    task_queue = JoinableQueue()\n",
    "    result_queue = Queue()\n",
    "    TaskManager.register('get_job_queue', \n",
    "                         callable = lambda:task_queue)\n",
    "    TaskManager.register('get_result_queue', \n",
    "                         callable = lambda:result_queue)\n",
    "    m = TaskManager(address = ('', master_socket), \n",
    "                    authkey = b'secret')\n",
    "    print('starting queue server, socket', master_socket)\n",
    "    m.get_server().serve_forever()"
   ]
  },
  {
   "cell_type": "code",
   "execution_count": 46,
   "metadata": {},
   "outputs": [
    {
     "name": "stdout",
     "output_type": "stream",
     "text": [
      "Overwriting ./workerCarloCython.pyx\n"
     ]
    }
   ],
   "source": [
    "%%file ./workerCarloCython.pyx\n",
    "from libc.stdlib cimport rand, srand, RAND_MAX\n",
    "cimport cython\n",
    "\n",
    "cpdef monte_carlo(quantity, seed):\n",
    "    return cdef_monte_carlo(quantity, seed)\n",
    "\n",
    "@cython.cdivision(True)\n",
    "cdef long cdef_monte_carlo(long quantity, long seed):\n",
    "    cdef long hits = 0\n",
    "    cdef double width = 0.0\n",
    "    cdef double height = 0.0\n",
    "    cdef double temp = 0.0\n",
    "    srand(seed)\n",
    "    \n",
    "    for _ in range(quantity):\n",
    "        width = <double>rand()/RAND_MAX\n",
    "        height = <double>rand()/RAND_MAX\n",
    "        if width * width + height * height < 1:\n",
    "            hits += 1\n",
    "\n",
    "    return hits"
   ]
  },
  {
   "cell_type": "code",
   "execution_count": 47,
   "metadata": {},
   "outputs": [
    {
     "name": "stdout",
     "output_type": "stream",
     "text": [
      "Overwriting ./workerCarlo.py\n"
     ]
    }
   ],
   "source": [
    "%%file ./workerCarlo.py\n",
    "\n",
    "from __future__ import print_function\n",
    "\n",
    "from multiprocessing import cpu_count, Process\n",
    "from TaskmanagerCarlo import TaskManager\n",
    "from workerCarloCython import monte_carlo\n",
    "\n",
    "def __worker_monte_carlo(job_queue, result_queue):\n",
    "    while True:\n",
    "        arguments = job_queue.get()\n",
    "        x, y = arguments\n",
    "        result = monte_carlo(x,y)\n",
    "        result_queue.put(result)\n",
    "        job_queue.task_done()\n",
    "\n",
    "def __start_workers(m):\n",
    "    job_queue, result_queue = m.get_job_queue(), m.get_result_queue()\n",
    "    nr_of_processes = cpu_count()\n",
    "    processes = [Process(target = __worker_monte_carlo,\n",
    "            args = (job_queue, result_queue))\n",
    "        for i in range(nr_of_processes)]\n",
    "    for p in processes:\n",
    "        p.start()\n",
    "    return nr_of_processes\n",
    "\n",
    "if __name__ == '__main__':\n",
    "    from sys import argv, exit\n",
    "    if len(argv) < 3:\n",
    "        print('usage:', argv[0], 'server_IP server_socket')\n",
    "        exit(0)\n",
    "    server_ip = argv[1]\n",
    "    server_socket = int(argv[2])\n",
    "    TaskManager.register('get_job_queue')\n",
    "    TaskManager.register('get_result_queue')\n",
    "    m = TaskManager(address=(server_ip, server_socket), authkey = b'secret')\n",
    "    m.connect()\n",
    "    nr_of_processes = __start_workers(m)\n",
    "    print(nr_of_processes, 'workers started')"
   ]
  },
  {
   "cell_type": "code",
   "execution_count": 48,
   "metadata": {},
   "outputs": [
    {
     "name": "stdout",
     "output_type": "stream",
     "text": [
      "Overwriting ./setupCarlo.py\n"
     ]
    }
   ],
   "source": [
    "%%file ./setupCarlo.py\n",
    "# Aufruf: python3 setup.py build_ext --inplace\n",
    "# Windows: zusaetzliche Option --compiler=mingw32\n",
    "from distutils.core import setup\n",
    "from distutils.extension import Extension\n",
    "from Cython.Distutils import build_ext\n",
    "import numpy\n",
    "\n",
    "\n",
    "ext_modules=[ Extension(\"workerCarlo\", [\"workerCarlo.py\"],\n",
    "        extra_compile_args=['-O3'], libraries=['m']),\n",
    "             Extension(\"workerCarloCython\", [\"workerCarloCython.pyx\"],\n",
    "        extra_compile_args=['-O3', '-fopenmp'], libraries=['m'],\n",
    "        #extra_compile_args=['-O3'], libraries=['m'],\n",
    "        extra_link_args=['-fopenmp'],\n",
    ")       \n",
    "        #Maybe needed\n",
    "        #extra_compile_args=['-O3'], libraries=['m'],\n",
    "        #include_dirs=[numpy.get_include()]),\n",
    "]\n",
    "             \n",
    "setup( name = 'cython demo',\n",
    "  cmdclass = {'build_ext': build_ext},\n",
    "  ext_modules = ext_modules,\n",
    "     include_dirs=[numpy.get_include()])"
   ]
  },
  {
   "cell_type": "code",
   "execution_count": 49,
   "metadata": {},
   "outputs": [
    {
     "name": "stdout",
     "output_type": "stream",
     "text": [
      "running build_ext\n",
      "cythoning workerCarlo.py to workerCarlo.c\n",
      "building 'workerCarlo' extension\n",
      "gcc -pthread -B /opt/anaconda/compiler_compat -Wl,--sysroot=/ -Wsign-compare -DNDEBUG -g -fwrapv -O3 -Wall -Wstrict-prototypes -fPIC -I/opt/anaconda/lib/python3.6/site-packages/numpy/core/include -I/opt/anaconda/include/python3.6m -c workerCarlo.c -o build/temp.linux-x86_64-3.6/workerCarlo.o -O3\n",
      "gcc -pthread -shared -B /opt/anaconda/compiler_compat -L/opt/anaconda/lib -Wl,-rpath=/opt/anaconda/lib -Wl,--no-as-needed -Wl,--sysroot=/ build/temp.linux-x86_64-3.6/workerCarlo.o -L/opt/anaconda/lib -lm -lpython3.6m -o /home/shiroten/Nextcloud HS-Augsburg/Studium Dokumente/Aktuelles Semester/Rösch - Programmieren 3/Programmieren-3---Private/prog3-10/workerCarlo.cpython-36m-x86_64-linux-gnu.so\n",
      "cythoning workerCarloCython.pyx to workerCarloCython.c\n",
      "building 'workerCarloCython' extension\n",
      "gcc -pthread -B /opt/anaconda/compiler_compat -Wl,--sysroot=/ -Wsign-compare -DNDEBUG -g -fwrapv -O3 -Wall -Wstrict-prototypes -fPIC -I/opt/anaconda/lib/python3.6/site-packages/numpy/core/include -I/opt/anaconda/include/python3.6m -c workerCarloCython.c -o build/temp.linux-x86_64-3.6/workerCarloCython.o -O3 -fopenmp\n",
      "gcc -pthread -shared -B /opt/anaconda/compiler_compat -L/opt/anaconda/lib -Wl,-rpath=/opt/anaconda/lib -Wl,--no-as-needed -Wl,--sysroot=/ build/temp.linux-x86_64-3.6/workerCarloCython.o -L/opt/anaconda/lib -lm -lpython3.6m -o /home/shiroten/Nextcloud HS-Augsburg/Studium Dokumente/Aktuelles Semester/Rösch - Programmieren 3/Programmieren-3---Private/prog3-10/workerCarloCython.cpython-36m-x86_64-linux-gnu.so -fopenmp\n"
     ]
    }
   ],
   "source": [
    "%%bash\n",
    "#Compilen\n",
    "python3 setupCarlo.py build_ext --inplace"
   ]
  },
  {
   "cell_type": "code",
   "execution_count": 53,
   "metadata": {},
   "outputs": [
    {
     "name": "stdout",
     "output_type": "stream",
     "text": [
      "Overwriting ./masterCarlo.py\n"
     ]
    }
   ],
   "source": [
    "%%file ./masterCarlo.py\n",
    "\n",
    "from __future__ import print_function\n",
    "\n",
    "from TaskmanagerCarlo import TaskManager\n",
    "import random, time\n",
    "\n",
    "def __calculate(m, number_of_trys, number_of_parts, worker_count):\n",
    "    worker_trys = number_of_trys / worker_count\n",
    "    worker_trys_part = worker_trys / number_of_parts\n",
    "    \n",
    "    job_queue, result_queue = m.get_job_queue(), m.get_result_queue()\n",
    "\n",
    "    in_list = []\n",
    "    result_list = []    \n",
    "    \n",
    "    for i in range (number_of_parts * worker_count):\n",
    "        random_number = int(random.random() * (2**31 -1))\n",
    "        in_list.append((worker_trys_part, random_number))\n",
    "    \n",
    "    for parameter_set in in_list:\n",
    "        job_queue.put(parameter_set)    \n",
    "\n",
    "    job_queue.join()\n",
    "    while not result_queue.empty():\n",
    "        result_list.append(result_queue.get()) \n",
    "        \n",
    "    print(result_list)\n",
    "\n",
    "    hits = 0\n",
    "    trys = 0\n",
    "\n",
    "    for e in in_list:\n",
    "        x = e[0]\n",
    "        trys += x\n",
    "\n",
    "    for result_tuple in result_list:\n",
    "        hits += result_tuple\n",
    "\n",
    "\n",
    "    print((hits)/trys * 4)\n",
    "\n",
    "\n",
    "if __name__ == '__main__':\n",
    "    from sys import argv, exit\n",
    "    if len(argv) != 6:\n",
    "        print('usage:', argv[0], 'server_IP server_socket number_of_trys number_of_parts worker_count')\n",
    "        exit(0)\n",
    "    server_ip = argv[1]\n",
    "    server_socket = int(argv[2])\n",
    "    number_of_trys = int(argv[3])\n",
    "    number_of_parts = int(argv[4])\n",
    "    worker_count = int(argv[5])\n",
    "    \n",
    "    TaskManager.register('get_job_queue')\n",
    "    TaskManager.register('get_result_queue')\n",
    "    m = TaskManager(address=(server_ip, server_socket), authkey = b'secret')\n",
    "    m.connect()\n",
    "\n",
    "    t1 = time.time()\n",
    "    result = __calculate(m, number_of_trys, number_of_parts, worker_count)\n",
    "    t2 = time.time()\n",
    "    print(' result: ', result)\n",
    "    print(' time:   ', t2-t1, ' s\\n')"
   ]
  }
 ],
 "metadata": {
  "kernelspec": {
   "display_name": "Python 3",
   "language": "python",
   "name": "python3"
  },
  "language_info": {
   "codemirror_mode": {
    "name": "ipython",
    "version": 3
   },
   "file_extension": ".py",
   "mimetype": "text/x-python",
   "name": "python",
   "nbconvert_exporter": "python",
   "pygments_lexer": "ipython3",
   "version": "3.6.3"
  }
 },
 "nbformat": 4,
 "nbformat_minor": 2
}
