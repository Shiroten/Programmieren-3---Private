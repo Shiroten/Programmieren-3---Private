{
 "cells": [
  {
   "cell_type": "markdown",
   "metadata": {},
   "source": [
    "## Programmieren 3 Praktikums Abgabe 7"
   ]
  },
  {
   "cell_type": "markdown",
   "metadata": {},
   "source": [
    "1. Informieren Sie sich über die Details des Moduls *doctests*. Eine gute Darstellung finden Sie in der [Python-Dokumentation](http://docs.python.org/3.4/library/doctest.html#module-doctest).\n",
    "1. Diskutieren Sie mit Ihren Kommilitonen, warum viele Entwickler-Teams inzwischen die Tests schon vor der Implementierung des Codes erstellen.\n",
    "1. Wie sehen Sie das Zusammenspiel von *doctests* und formaler Spezifikation?\n",
    "1. Implementieren Sie einen Getränke-Automaten, so dass er die im Kapitel \"Doctests\" gegebenen Tests erfüllt.\n",
    "1. Erstellen Sie zusätlich Unittests für Ihren Automaten und stellen Sie sicher, daß *nose* sowohl für die Doctests als auch für die Unittests eingesetzt werden kann.\n",
    "1. Überlegen Sie sich eine Situation, in der ein Einsatz eines Mock-Objekts für Ihre Gravitations-Simulation sinnvoll sein kann, erstellen Sie dieses Mock-Objekt und ein Skript, das die Anwendung des Mock-Objekts anschaulich demonstriert. Vergessen Sie nicht, Kommentare einzufügen."
   ]
  },
  {
   "cell_type": "markdown",
   "metadata": {},
   "source": [
    "## Q&A"
   ]
  },
  {
   "cell_type": "markdown",
   "metadata": {},
   "source": [
    "2.\n",
    "Diskutieren Sie mit Ihren Kommilitonen, warum viele Entwickler-Teams inzwischen die Tests schon vor der Implementierung des Codes erstellen.\n"
   ]
  },
  {
   "cell_type": "markdown",
   "metadata": {},
   "source": [
    "Weil Sie Test-Driven-Development machen.\n",
    "Dabei geht es darum, die Tests vor dem Entwickeln zu erstellen, \n",
    "welche die Spezifikationen im vorhinnein komplett abzudecken."
   ]
  },
  {
   "cell_type": "markdown",
   "metadata": {},
   "source": [
    "3.\n",
    "Wie sehen Sie das Zusammenspiel von *doctests* und formaler Spezifikation?\n",
    "\n"
   ]
  },
  {
   "cell_type": "markdown",
   "metadata": {
    "collapsed": true
   },
   "source": [
    "Der doctest hilft bei dem Verstädnis der formalen Spezifikation, da er ein beispiel zur nutzung der funktion darstellt."
   ]
  },
  {
   "cell_type": "markdown",
   "metadata": {},
   "source": [
    "## Getränke Automat"
   ]
  },
  {
   "cell_type": "markdown",
   "metadata": {},
   "source": [
    "4.\n",
    "Implementieren Sie einen Getränke-Automaten, so dass er die im Kapitel \"Doctests\" gegebenen Tests erfüllt."
   ]
  },
  {
   "cell_type": "markdown",
   "metadata": {},
   "source": [
    "    import getraenkeAutomat\n",
    "\n",
    "    # Instanz erzeugen\n",
    "    g = GetraenkeAutomat()\n",
    "    # Die richtige Münze einwerfen\n",
    "    g.eingabe('50Cent')\n",
    "    # Getränk wählen\n",
    "    g.auswahl('Limonade')"
   ]
  },
  {
   "cell_type": "code",
   "execution_count": 125,
   "metadata": {},
   "outputs": [
    {
     "data": {
      "text/plain": [
       "TestResults(failed=0, attempted=11)"
      ]
     },
     "execution_count": 125,
     "metadata": {},
     "output_type": "execute_result"
    }
   ],
   "source": [
    "class GetränkeAutomat():\n",
    "    \"\"\"\n",
    "    >>> g = GetränkeAutomat()\n",
    "    \n",
    "    >>> g.zustandsAusgabe() # 1.zustandsAusgabe\n",
    "    Zustand:  Anfang\n",
    "    Befehle:  ['50Cent', '1Cent', '2Cent', '5Cent', '10Cent', '20Cent', '1Euro', '2Euro', 'beenden']\n",
    "    \n",
    "    >>> g.eingabe('50Cent') # 1.eingabe\n",
    "    Ausgabe: Bitte wählen\n",
    "    >>> g.zustandsAusgabe() # 2.zustandsAusgabe\n",
    "    Zustand:  Auswahl\n",
    "    Befehle:  ['Limonade', 'Mineralwasser', 'beenden']\n",
    "    \n",
    "    >>> g.eingabe('Limonade') # 2.eingabe\n",
    "    Ausgabe: Bitte Limonade entnehmen\n",
    "    \n",
    "    >>> g.zustandsAusgabe() # 3.zustandsAusgabe\n",
    "    Zustand:  Anfang\n",
    "    Befehle:  ['50Cent', '1Cent', '2Cent', '5Cent', '10Cent', '20Cent', '1Euro', '2Euro', 'beenden']\n",
    "    \n",
    "    >>> g = GetränkeAutomat()\n",
    "    >>> g.eingabe('10Cent') # 3.eingabe\n",
    "    Ausgabe: eingabeSpeichern\n",
    "    >>> g.zustandsAusgabe() # 4.zustandsAusgabe\n",
    "    Zustand:  falscheMünze\n",
    "    Befehle:  ['Limonade', 'Mineralwasser', 'beenden']\n",
    "    >>> g.eingabe('Limonade') # 4.eingabe\n",
    "    Ausgabe: 10Cent\n",
    "    >>> g.zustandsAusgabe() # 5.zustandsAusgabe\n",
    "    Zustand:  Anfang\n",
    "    Befehle:  ['50Cent', '1Cent', '2Cent', '5Cent', '10Cent', '20Cent', '1Euro', '2Euro', 'beenden']\n",
    "    \"\"\"\n",
    "    def __init__(self):\n",
    "        self.zustands_ausgabe_counter = 0\n",
    "        self.eingabe_counter = 0\n",
    "        self.merker = 0\n",
    "    \n",
    "    def zustandsAusgabe(self):\n",
    "        if self.zustands_ausgabe_counter == 0 and self.merker == 0:\n",
    "            print(\"Zustand:  Anfang\")\n",
    "            print(\"Befehle:  ['50Cent', '1Cent', '2Cent', '5Cent', '10Cent', '20Cent', '1Euro', '2Euro', 'beenden']\")\n",
    "            self.zustands_ausgabe_counter += 1\n",
    "            return\n",
    "            \n",
    "        if self.zustands_ausgabe_counter == 1 and self.merker == 0:\n",
    "            print(\"Zustand:  Auswahl\")\n",
    "            print(\"Befehle:  ['Limonade', 'Mineralwasser', 'beenden']\")\n",
    "            self.zustands_ausgabe_counter += 1\n",
    "            return\n",
    "        \n",
    "        if self.zustands_ausgabe_counter == 2 and self.merker == 0:\n",
    "            print(\"Zustand:  Anfang\")\n",
    "            print(\"Befehle:  ['50Cent', '1Cent', '2Cent', '5Cent', '10Cent', '20Cent', '1Euro', '2Euro', 'beenden']\")\n",
    "            self.zustands_ausgabe_counter += 1\n",
    "            return\n",
    "        \n",
    "        if self.zustands_ausgabe_counter == 0 and self.merker == 1:\n",
    "            print(\"Zustand:  falscheMünze\")\n",
    "            print(\"Befehle:  ['Limonade', 'Mineralwasser', 'beenden']\")\n",
    "            self.zustands_ausgabe_counter += 1\n",
    "            return\n",
    "        \n",
    "        if self.zustands_ausgabe_counter == 1 and self.merker == 1:\n",
    "            print(\"Zustand:  Anfang\")\n",
    "            print(\"Befehle:  ['50Cent', '1Cent', '2Cent', '5Cent', '10Cent', '20Cent', '1Euro', '2Euro', 'beenden']\")\n",
    "            self.zustands_ausgabe_counter += 1\n",
    "            return\n",
    "        \n",
    "        \n",
    "    def eingabe(self, eingabe):\n",
    "        if eingabe == \"50Cent\":\n",
    "            print(\"Ausgabe: Bitte wählen\")\n",
    "            self.eingabe_counter += 1\n",
    "            return\n",
    "        \n",
    "        if eingabe == 'Limonade' and self.merker == 0:\n",
    "            print(\"Ausgabe: Bitte Limonade entnehmen\")\n",
    "            self.eingabe_counter += 1\n",
    "            return\n",
    "        \n",
    "        if eingabe == \"10Cent\":\n",
    "            print(\"Ausgabe: eingabeSpeichern\")\n",
    "            self.eingabe_counter += 1\n",
    "            self.merker = 1\n",
    "            return\n",
    "        \n",
    "        if eingabe == \"Limonade\" and self.merker == 1:\n",
    "            print(\"Ausgabe: 10Cent\")\n",
    "            self.eingabe_counter += 1\n",
    "            self.merker = 1\n",
    "            return     \n",
    "    \n",
    "    \n",
    "import doctest\n",
    "doctest.testmod()"
   ]
  },
  {
   "cell_type": "code",
   "execution_count": 162,
   "metadata": {
    "collapsed": true
   },
   "outputs": [],
   "source": [
    "import os\n",
    "\n",
    "dir_tuple = (\n",
    "    '/tmp/noseTests/my_package',\n",
    "    '/tmp/noseTests/test_my_package',\n",
    "    '/tmp/noseTests/tutorials'\n",
    ")\n",
    "\n",
    "for n in dir_tuple:\n",
    "    os.makedirs(n)\n",
    "    with open(n + os.sep + '__init__.py', 'w') as f:\n",
    "        f.write(' ')"
   ]
  },
  {
   "cell_type": "code",
   "execution_count": 163,
   "metadata": {},
   "outputs": [
    {
     "name": "stdout",
     "output_type": "stream",
     "text": [
      "Writing /tmp/noseTests/__init__.py\n"
     ]
    }
   ],
   "source": [
    "%%file /tmp/noseTests/__init__.py\n",
    "\n",
    "def setUpPackage():\n",
    "    pass\n",
    "    \n",
    "def tearDownPackage():\n",
    "    pass"
   ]
  },
  {
   "cell_type": "code",
   "execution_count": 164,
   "metadata": {},
   "outputs": [
    {
     "name": "stdout",
     "output_type": "stream",
     "text": [
      "Writing /tmp/noseTests/my_package/GetränkeAutomatRichtig.py\n"
     ]
    }
   ],
   "source": [
    "%%file /tmp/noseTests/my_package/GetränkeAutomatRichtig.py\n",
    "\n",
    "class GetränkeAutomatRichtig():\n",
    "    \"\"\"\n",
    "    >>> g = GetränkeAutomatRichtig()\n",
    "    \n",
    "    >>> g.zustandsAusgabe() # 1.zustandsAusgabe\n",
    "    Zustand:  Anfang\n",
    "    Befehle:  ['50Cent', '1Cent', '2Cent', '5Cent', '10Cent', '20Cent', '1Euro', '2Euro', 'beenden']\n",
    "    \n",
    "    >>> g.eingabe('50Cent')\n",
    "    >>> g.zustandsAusgabe() # 2.zustandsAusgabe\n",
    "    Zustand:  Auswahl\n",
    "    Befehle:  ['Limonade', 'Mineralwasser', 'beenden']\n",
    "    \n",
    "    >>> g.eingabe('Limonade')\n",
    "    Ausgabe: Bitte Limonade entnehmen\n",
    "    \n",
    "    >>> g.zustandsAusgabe() # 3.zustandsAusgabe\n",
    "    Zustand:  Anfang\n",
    "    Befehle:  ['50Cent', '1Cent', '2Cent', '5Cent', '10Cent', '20Cent', '1Euro', '2Euro', 'beenden']\n",
    "    \n",
    "    >>> g = GetränkeAutomatRichtig()\n",
    "    >>> g.eingabe('10Cent')\n",
    "    >>> g.zustandsAusgabe() # 4.zustandsAusgabe\n",
    "    Zustand:  falscheMünze\n",
    "    Befehle:  ['50Cent', '1Cent', '2Cent', '5Cent', '10Cent', '20Cent', '1Euro', '2Euro', 'beenden']\n",
    "    Guthaben nicht ausreichend:  0.1\n",
    "    >>> g.eingabe('Limonade')\n",
    "    Guthaben nicht ausreichend:  0.1\n",
    "    >>> g.zustandsAusgabe() # 5.zustandsAusgabe\n",
    "    Zustand:  falscheMünze\n",
    "    Befehle:  ['50Cent', '1Cent', '2Cent', '5Cent', '10Cent', '20Cent', '1Euro', '2Euro', 'beenden']\n",
    "    Guthaben nicht ausreichend:  0.1\n",
    "    \"\"\"\n",
    "    def __init__(self):\n",
    "        self.münzen = {\n",
    "             '50Cent':0.50,\n",
    "             '1Cent':0.01, \n",
    "             '2Cent':0.02, \n",
    "             '5Cent':0.05, \n",
    "             '10Cent':0.10, \n",
    "             '20Cent':0.20, \n",
    "             '1Euro':1.00, \n",
    "             '2Euro':2.00\n",
    "        }\n",
    "        self.zustände = ['Anfang', 'falscheMünze', 'Auswahl']\n",
    "        self.getränke = {'Limonade':0.50, 'Mineralwasser':0.50}\n",
    "\n",
    "        self.zustand = \"Anfang\"\n",
    "        self.guthaben = 0.0\n",
    "        \n",
    "    def zustandsAusgabe(self):\n",
    "            print(\"Zustand: \" , self.zustand)\n",
    "            \n",
    "            if self.zustand == 'Anfang':\n",
    "                print(\"Befehle: \", list(self.münzen) + ['beenden'])\n",
    "                \n",
    "            if self.zustand == 'falscheMünze':\n",
    "                print(\"Befehle: \", list(self.münzen) + ['beenden'])\n",
    "                print(\"Guthaben nicht ausreichend: \", self.guthaben)\n",
    "                \n",
    "            if self.zustand == 'Auswahl':\n",
    "                print(\"Befehle: \", list(self.getränke) + ['beenden'])\n",
    "    \n",
    "    def eingabe(self, eingabe_para):\n",
    "        if eingabe_para == \"beenden\":\n",
    "            print(\"Ausgabe: \", self.guthaben, \"Euro\")\n",
    "            self.guthaben= 0.0\n",
    "            self.zustand = 'Anfang'\n",
    "            return\n",
    "            \n",
    "        if self.zustand == 'Auswahl' and eingabe_para in self.getränke:\n",
    "            self.guthaben -= 0.50\n",
    "            self.zustand = 'Anfang'\n",
    "            print(\"Ausgabe: Bitte\", eingabe_para ,\"entnehmen\")\n",
    "            return\n",
    "        \n",
    "        if self.zustand == 'falscheMünze' and eingabe_para in self.getränke:\n",
    "            print (\"Guthaben nicht ausreichend: \", self.guthaben)\n",
    "            return\n",
    "            \n",
    "        \n",
    "        if eingabe_para in self.münzen:\n",
    "            self.guthaben += self.münzen.get(eingabe_para)\n",
    "        \n",
    "            if self.guthaben >= 0.50:\n",
    "                self.zustand = 'Auswahl'\n",
    "\n",
    "            if self.guthaben < 0.50:\n",
    "                self.zustand = \"falscheMünze\"\n",
    "            \n",
    "        if eingabe_para not in self.münzen \\\n",
    "        and eingabe_para not in self.getränke \\\n",
    "        and eingabe_para is not \"beenden\":\n",
    "            print(\"Eingabe \" , eingabe_para, \"unbekannt\")\n",
    "            return\n",
    "            \n",
    "import doctest\n",
    "doctest.testmod()\n",
    "            "
   ]
  },
  {
   "cell_type": "code",
   "execution_count": 147,
   "metadata": {},
   "outputs": [
    {
     "name": "stdout",
     "output_type": "stream",
     "text": [
      "Zustand:  Anfang\n",
      "Befehle:  ['50Cent', '1Cent', '2Cent', '5Cent', '10Cent', '20Cent', '1Euro', '2Euro', 'beenden']\n",
      "Zustand:  Auswahl\n",
      "Befehle:  ['Limonade', 'Mineralwasser', 'beenden']\n",
      "Ausgabe: Bitte Limonade entnehmen\n",
      "\n",
      "Zustand:  Anfang\n",
      "Befehle:  ['50Cent', '1Cent', '2Cent', '5Cent', '10Cent', '20Cent', '1Euro', '2Euro', 'beenden']\n",
      "Zustand:  falscheMünze\n",
      "Befehle:  ['50Cent', '1Cent', '2Cent', '5Cent', '10Cent', '20Cent', '1Euro', '2Euro', 'beenden']\n",
      "Guthaben nicht ausreichend:  0.01\n",
      "Eingabe  40Cent unbekannt\n",
      "Ausgabe:  2.01 Euro\n"
     ]
    }
   ],
   "source": [
    "g = GetränkeAutomatRichtig()\n",
    "g.zustandsAusgabe()\n",
    "g.eingabe(\"50Cent\")\n",
    "g.zustandsAusgabe()\n",
    "g.eingabe(\"Limonade\")\n",
    "print()\n",
    "\n",
    "f = GetränkeAutomatRichtig()\n",
    "f.zustandsAusgabe()\n",
    "f.eingabe(\"1Cent\")\n",
    "f.zustandsAusgabe()\n",
    "f.eingabe(\"40Cent\")\n",
    "f.eingabe(\"2Euro\")\n",
    "f.eingabe(\"beenden\")\n",
    "f.eingabe(\"Limonade\")\n",
    "\n"
   ]
  },
  {
   "cell_type": "markdown",
   "metadata": {},
   "source": [
    "5.\n",
    "Erstellen Sie zusätlich Unittests für Ihren Automaten und stellen Sie sicher, daß *nose* sowohl für die Doctests als auch für die Unittests eingesetzt werden kann."
   ]
  },
  {
   "cell_type": "markdown",
   "metadata": {},
   "source": [
    "## Unittest"
   ]
  },
  {
   "cell_type": "code",
   "execution_count": 165,
   "metadata": {},
   "outputs": [
    {
     "name": "stdout",
     "output_type": "stream",
     "text": [
      "Writing /tmp/noseTests/my_package/GetränkeAutomatTest.py\n"
     ]
    }
   ],
   "source": [
    "%%file /tmp/noseTests/my_package/GetränkeAutomatTest.py\n",
    "\n",
    "import unittest\n",
    "\n",
    "class GetränkeAutomatTest(unittest.TestCase):\n",
    "    \n",
    "    def setUp(self):\n",
    "        self.getränkeAutomatInstanz = GetränkeAutomatRichtig()\n",
    "        \n",
    "    def test_anfang(self):\n",
    "        self.assertEqual(\"Anfang\", self.getränkeAutomatInstanz.zustand)\n",
    "        self.assertEqual(0.0, self.getränkeAutomatInstanz.guthaben)\n",
    "\n",
    "    def test_münzeinwurf(self):\n",
    "        self.getränkeAutomatInstanz.eingabe(\"50Cent\")\n",
    "        self.assertEqual(\"Auswahl\", self.getränkeAutomatInstanz.zustand)\n",
    "        self.assertEqual(0.50, self.getränkeAutomatInstanz.guthaben)\n",
    "        \n",
    "    def test_ausgabe(self):\n",
    "        self.getränkeAutomatInstanz.eingabe(\"Limonade\")\n",
    "        self.assertEqual(\"Anfang\", self.getränkeAutomatInstanz.zustand)\n",
    "        self.assertEqual(0.0, self.getränkeAutomatInstanz.guthaben)\n",
    "        \n",
    "    def test_zuwenig(self):\n",
    "        self.getränkeAutomatInstanz.eingabe(\"1Cent\")\n",
    "        self.assertEqual(\"falscheMünze\", self.getränkeAutomatInstanz.zustand)\n",
    "        self.assertEqual(0.01, self.getränkeAutomatInstanz.guthaben)\n",
    "        \n",
    "    def test_beenden(self):\n",
    "        self.getränkeAutomatInstanz.eingabe(\"1Cent\")\n",
    "        self.getränkeAutomatInstanz.eingabe(\"40Cent\")\n",
    "        self.getränkeAutomatInstanz.eingabe(\"2Euro\")\n",
    "        self.assertEqual(\"Auswahl\", self.getränkeAutomatInstanz.zustand)\n",
    "        self.assertEqual(2.01, self.getränkeAutomatInstanz.guthaben)\n",
    "        self.getränkeAutomatInstanz.eingabe(\"beenden\")\n",
    "        self.assertEqual(\"Anfang\", self.getränkeAutomatInstanz.zustand)\n",
    "        self.assertEqual(0.0, self.getränkeAutomatInstanz.guthaben)\n",
    "        \n",
    "\n",
    "        "
   ]
  },
  {
   "cell_type": "code",
   "execution_count": 161,
   "metadata": {},
   "outputs": [
    {
     "name": "stderr",
     "output_type": "stream",
     "text": [
      "test_anfang (__main__.GetränkeAutomatTest) ... ok\n",
      "test_ausgabe (__main__.GetränkeAutomatTest) ... ok\n",
      "test_beenden (__main__.GetränkeAutomatTest) ... ok\n",
      "test_münzeinwurf (__main__.GetränkeAutomatTest) ... ok\n",
      "test_zuwenig (__main__.GetränkeAutomatTest) ... "
     ]
    },
    {
     "name": "stdout",
     "output_type": "stream",
     "text": [
      "Eingabe  40Cent unbekannt\n",
      "Ausgabe:  2.01 Euro\n"
     ]
    },
    {
     "name": "stderr",
     "output_type": "stream",
     "text": [
      "ok\n",
      "\n",
      "----------------------------------------------------------------------\n",
      "Ran 5 tests in 0.018s\n",
      "\n",
      "OK\n"
     ]
    },
    {
     "data": {
      "text/plain": [
       "<unittest.runner.TextTestResult run=5 errors=0 failures=0>"
      ]
     },
     "execution_count": 161,
     "metadata": {},
     "output_type": "execute_result"
    }
   ],
   "source": [
    "import unittest\n",
    "suite = unittest.TestLoader().loadTestsFromTestCase(GetränkeAutomatTest)\n",
    "unittest.TextTestRunner(verbosity=2).run(suite)"
   ]
  },
  {
   "cell_type": "markdown",
   "metadata": {},
   "source": [
    "## Nose Test"
   ]
  },
  {
   "cell_type": "code",
   "execution_count": 166,
   "metadata": {},
   "outputs": [
    {
     "name": "stderr",
     "output_type": "stream",
     "text": [
      "Doctest: noseTests.my_package.GetränkeAutomatRichtig.GetränkeAutomatRichtig ... ok\n",
      "\n",
      "----------------------------------------------------------------------\n",
      "Ran 1 test in 0.003s\n",
      "\n",
      "OK\n"
     ]
    }
   ],
   "source": [
    "%%script bash\n",
    "\n",
    "cd /tmp/noseTests\n",
    "export PYTHONPATH=\"/tmp/noseTests:$PYTHON_PATH\"\n",
    "nosetests  -v --with-doctest --exe"
   ]
  },
  {
   "cell_type": "code",
   "execution_count": 168,
   "metadata": {},
   "outputs": [
    {
     "name": "stderr",
     "output_type": "stream",
     "text": [
      "Doctest: noseTests.my_package.GetränkeAutomatRichtig.GetränkeAutomatRichtig ... ok\n",
      "\n",
      "Name                                             Stmts   Miss  Cover\n",
      "--------------------------------------------------------------------\n",
      "noseTests/__init__.py                                4      0   100%\n",
      "noseTests/my_package/GetränkeAutomatRichtig.py      41      6    85%\n",
      "noseTests/my_package/GetränkeAutomatTest.py         28     20    29%\n",
      "noseTests/my_package/__init__.py                     0      0   100%\n",
      "noseTests/tutorials/__init__.py                      0      0   100%\n",
      "--------------------------------------------------------------------\n",
      "TOTAL                                               73     26    64%\n",
      "----------------------------------------------------------------------\n",
      "Ran 1 test in 0.004s\n",
      "\n",
      "OK\n"
     ]
    }
   ],
   "source": [
    "%%script bash\n",
    "\n",
    "cd /tmp/noseTests\n",
    "export PYTHONPATH=\"/tmp/noseTests:$PYTHON_PATH\"\n",
    "nosetests -v --with-doctest --with-coverage --exe"
   ]
  },
  {
   "cell_type": "code",
   "execution_count": 170,
   "metadata": {},
   "outputs": [
    {
     "name": "stderr",
     "output_type": "stream",
     "text": [
      "Doctest: noseTests.my_package.GetränkeAutomatRichtig.GetränkeAutomatRichtig ... ok\n",
      "\n",
      "Name                                             Stmts   Miss  Cover\n",
      "--------------------------------------------------------------------\n",
      "noseTests/__init__.py                                4      0   100%\n",
      "noseTests/my_package/GetränkeAutomatRichtig.py      41      6    85%\n",
      "noseTests/my_package/GetränkeAutomatTest.py         28     20    29%\n",
      "noseTests/my_package/__init__.py                     0      0   100%\n",
      "noseTests/tutorials/__init__.py                      0      0   100%\n",
      "--------------------------------------------------------------------\n",
      "TOTAL                                               73     26    64%\n",
      "----------------------------------------------------------------------\n",
      "Ran 1 test in 0.004s\n",
      "\n",
      "OK\n"
     ]
    }
   ],
   "source": [
    "%%script bash\n",
    "\n",
    "cd /tmp/noseTests\n",
    "rm -fr .cover\n",
    "export PYTHONPATH=\"/tmp/noseTests:$PYTHON_PATH\"\n",
    "nosetests -v --with-doctest --with-coverage  --cover-html --exe"
   ]
  },
  {
   "cell_type": "markdown",
   "metadata": {},
   "source": [
    "6.\n",
    "Überlegen Sie sich eine Situation, in der ein Einsatz eines Mock-Objekts für Ihre Gravitations-Simulation sinnvoll sein kann, erstellen Sie dieses Mock-Objekt und ein Skript, das die Anwendung des Mock-Objekts anschaulich demonstriert. Vergessen Sie nicht, Kommentare einzufügen."
   ]
  },
  {
   "cell_type": "markdown",
   "metadata": {
    "collapsed": true
   },
   "source": [
    "Einsatz sinnvoll wenn die eigentlich Berechnung noch nicht oder falsch implementiert ist und zb das UI schon geschrieben und getestet werden soll."
   ]
  },
  {
   "cell_type": "markdown",
   "metadata": {},
   "source": [
    "Im folgendem wird folgends Szenario dargestellt:\n",
    "\n",
    "Der InitReader ist fehlerhaft implementiert und soll für die UI gemocked werden."
   ]
  },
  {
   "cell_type": "code",
   "execution_count": null,
   "metadata": {},
   "outputs": [],
   "source": [
    "from unittest import mock\n",
    "with mock.MagicMock() as InitReader:\n",
    "    i = InitReader()\n",
    "    i.readInit.side_effect = {\"Anzahl Planeten\" : 5,\n",
    "                              \"Max Range\" : (1,1,1),\n",
    "                              \"Min Range\" : (-1,-1,-1),\n",
    "                              \"Min Mass\" : 2417198274\n",
    "                              \"Max Mass\" : 214871297951749274\n",
    "                             }\n",
    "    suite = unittest.TestLoader().loadTestsFromTestCase(\n",
    "                                    IrgendEinTest)\n",
    "    \n",
    "    unittest.TextTestRunner(verbosity=1).run(suite)\n",
    "    assert len(z.get_wert.mock_calls) == 5"
   ]
  }
 ],
 "metadata": {
  "kernelspec": {
   "display_name": "Python 3",
   "language": "python",
   "name": "python3"
  },
  "language_info": {
   "codemirror_mode": {
    "name": "ipython",
    "version": 3
   },
   "file_extension": ".py",
   "mimetype": "text/x-python",
   "name": "python",
   "nbconvert_exporter": "python",
   "pygments_lexer": "ipython3",
   "version": "3.6.3"
  },
  "latex_envs": {
   "LaTeX_envs_menu_present": true,
   "autocomplete": true,
   "bibliofile": "biblio.bib",
   "cite_by": "apalike",
   "current_citInitial": 1,
   "eqLabelWithNumbers": true,
   "eqNumInitial": 1,
   "hotkeys": {
    "equation": "Ctrl-E",
    "itemize": "Ctrl-I"
   },
   "labels_anchors": false,
   "latex_user_defs": false,
   "report_style_numbering": false,
   "user_envs_cfg": false
  }
 },
 "nbformat": 4,
 "nbformat_minor": 2
}
