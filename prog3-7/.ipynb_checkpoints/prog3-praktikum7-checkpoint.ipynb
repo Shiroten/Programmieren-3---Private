{
 "cells": [
  {
   "cell_type": "markdown",
   "metadata": {},
   "source": [
    "1. Informieren Sie sich über die Details des Moduls *doctests*. Eine gute Darstellung finden Sie in der [Python-Dokumentation](http://docs.python.org/3.4/library/doctest.html#module-doctest).\n",
    "1. Diskutieren Sie mit Ihren Kommilitonen, warum viele Entwickler-Teams inzwischen die Tests schon vor der Implementierung des Codes erstellen.\n",
    "1. Wie sehen Sie das Zusammenspiel von *doctests* und formaler Spezifikation?\n",
    "1. Implementieren Sie einen Getränke-Automaten, so dass er die im Kapitel \"Doctests\" gegebenen Tests erfüllt.\n",
    "1. Erstellen Sie zusätlich Unittests für Ihren Automaten und stellen Sie sicher, daß *nose* sowohl für die Doctests als auch für die Unittests eingesetzt werden kann.\n",
    "1. Überlegen Sie sich eine Situation, in der ein Einsatz eines Mock-Objekts für Ihre Gravitations-Simulation sinnvoll sein kann, erstellen Sie dieses Mock-Objekt und ein Skript, das die Anwendung des Mock-Objekts anschaulich demonstriert. Vergessen Sie nicht, Kommentare einzufügen."
   ]
  },
  {
   "cell_type": "markdown",
   "metadata": {},
   "source": [
    "2.\n",
    "Diskutieren Sie mit Ihren Kommilitonen, warum viele Entwickler-Teams inzwischen die Tests schon vor der Implementierung des Codes erstellen.\n"
   ]
  },
  {
   "cell_type": "markdown",
   "metadata": {},
   "source": [
    "Weil Sie Test-Driven-Development machen.\n",
    "Dabei geht es darum, die Tests vor dem Entwickeln zu erstellen, \n",
    "welche die Spezifikationen im vorhinnein komplett abzudecken."
   ]
  },
  {
   "cell_type": "markdown",
   "metadata": {},
   "source": [
    "3.\n",
    "Wie sehen Sie das Zusammenspiel von *doctests* und formaler Spezifikation?\n",
    "\n"
   ]
  },
  {
   "cell_type": "code",
   "execution_count": null,
   "metadata": {
    "collapsed": true
   },
   "outputs": [],
   "source": []
  },
  {
   "cell_type": "markdown",
   "metadata": {},
   "source": [
    "4.\n",
    "Implementieren Sie einen Getränke-Automaten, so dass er die im Kapitel \"Doctests\" gegebenen Tests erfüllt."
   ]
  },
  {
   "cell_type": "markdown",
   "metadata": {},
   "source": [
    "    import getraenkeAutomat\n",
    "\n",
    "    # Instanz erzeugen\n",
    "    g = GetraenkeAutomat()\n",
    "    # Die richtige Münze einwerfen\n",
    "    g.eingabe('50Cent')\n",
    "    # Getränk wählen\n",
    "    g.auswahl('Limonade')"
   ]
  },
  {
   "cell_type": "code",
   "execution_count": 34,
   "metadata": {},
   "outputs": [],
   "source": [
    "class GetränkeAutomat():\n",
    "\n",
    "    def __init__(self):\n",
    "        self.zustandDict = {\n",
    "            \"Anfang\" : \"'50Cent', '1Cent', '2Cent', '5Cent', '10Cent', '20Cent', '1Euro', '2Euro', 'beenden'\",\n",
    "            \"falscheMünze\" : \"'Limonade', 'Mineralwasser', 'beenden'\",\n",
    "            \"Auswahl\": \"'Limonade', 'Mineralwasser', 'beenden'\"        \n",
    "        }\n",
    "        self.zustand = \"Anfang\"\n",
    "        self.Eingabe = None\n",
    "        \n",
    "    def zustandsAusgabe(self):\n",
    "            print(\"Befehle: \" + self.zustandDict.get(self.zustand))\n",
    "    \n",
    "    def eingabe(self, input):\n",
    "        self.Eingabe = input\n",
    "        \n",
    "        if self.zustand == 'Anfang':\n",
    "            switch = {\n",
    "                '1Cent':'falscheMünze',\n",
    "                '2Cent':'falscheMünze',\n",
    "                '5Cent':'falscheMünze',\n",
    "                '10Cent':'falscheMünze',\n",
    "                '20Cent':'falscheMünze',\n",
    "                '50Cent':'Auswahl',\n",
    "                '1Euro':'Auswahl',\n",
    "                '2Euro':'Auswahl',\n",
    "                'beenden':'Anfang'\n",
    "            }\n",
    "            self.zustand = switch.get(self.Eingabe)\n",
    "            \n",
    "            \n",
    "        if self.zustand == \"falscheMünze\":\n",
    "            self.zustand = \"Anfang\"\n",
    "            return self.Eingabe\n",
    "            \n",
    "            \n",
    "        if self.zustand == \"Auswahl\":\n",
    "            switch = {\n",
    "                'Limonade': 'Anfang',\n",
    "                'Mineralwasser': 'Anfang',\n",
    "                'beenden': 'Anfang'\n",
    "            }\n",
    "            self.zustand = switch.get(self.Eingabe)\n",
    "                \n",
    "                \n",
    "\n"
   ]
  },
  {
   "cell_type": "code",
   "execution_count": 35,
   "metadata": {},
   "outputs": [
    {
     "name": "stdout",
     "output_type": "stream",
     "text": [
      "Befehle: '50Cent', '1Cent', '2Cent', '5Cent', '10Cent', '20Cent', '1Euro', '2Euro', 'beenden'\n"
     ]
    }
   ],
   "source": [
    "g = GetränkeAutomat()\n",
    "g.zustandsAusgabe()\n",
    "g.eingabe(\"50Cent\")\n",
    "\n"
   ]
  },
  {
   "cell_type": "markdown",
   "metadata": {},
   "source": [
    "5.\n",
    "Erstellen Sie zusätlich Unittests für Ihren Automaten und stellen Sie sicher, daß *nose* sowohl für die Doctests als auch für die Unittests eingesetzt werden kann."
   ]
  },
  {
   "cell_type": "code",
   "execution_count": null,
   "metadata": {
    "collapsed": true
   },
   "outputs": [],
   "source": []
  },
  {
   "cell_type": "markdown",
   "metadata": {},
   "source": [
    "6.\n",
    "Überlegen Sie sich eine Situation, in der ein Einsatz eines Mock-Objekts für Ihre Gravitations-Simulation sinnvoll sein kann, erstellen Sie dieses Mock-Objekt und ein Skript, das die Anwendung des Mock-Objekts anschaulich demonstriert. Vergessen Sie nicht, Kommentare einzufügen."
   ]
  },
  {
   "cell_type": "code",
   "execution_count": null,
   "metadata": {
    "collapsed": true
   },
   "outputs": [],
   "source": []
  }
 ],
 "metadata": {
  "kernelspec": {
   "display_name": "Python 3",
   "language": "python",
   "name": "python3"
  },
  "language_info": {
   "codemirror_mode": {
    "name": "ipython",
    "version": 3
   },
   "file_extension": ".py",
   "mimetype": "text/x-python",
   "name": "python",
   "nbconvert_exporter": "python",
   "pygments_lexer": "ipython3",
   "version": "3.6.3"
  },
  "latex_envs": {
   "LaTeX_envs_menu_present": true,
   "autocomplete": true,
   "bibliofile": "biblio.bib",
   "cite_by": "apalike",
   "current_citInitial": 1,
   "eqLabelWithNumbers": true,
   "eqNumInitial": 1,
   "hotkeys": {
    "equation": "Ctrl-E",
    "itemize": "Ctrl-I"
   },
   "labels_anchors": false,
   "latex_user_defs": false,
   "report_style_numbering": false,
   "user_envs_cfg": false
  }
 },
 "nbformat": 4,
 "nbformat_minor": 2
}
