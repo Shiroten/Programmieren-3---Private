{
 "cells": [
  {
   "cell_type": "markdown",
   "metadata": {},
   "source": [
    "**Import des Matplot Beispiels**"
   ]
  },
  {
   "cell_type": "code",
   "execution_count": 1,
   "metadata": {
    "collapsed": true
   },
   "outputs": [],
   "source": [
    "# Prototyp\n",
    "import numpy as np\n",
    "import math\n",
    "import matplotlib.pyplot as plt\n",
    "%matplotlib inline\n",
    "#\n",
    "# Start\n",
    "x0 = np.array([20, 0, 10], np.float32)\n",
    "v0_abs = 20\n",
    "alpha = 45\n",
    "#alpha = 0\n",
    "alpha_rad = math.radians(alpha)\n",
    "g = -9.81\n",
    "a = np.array([0, 0, g], np.float32)\n",
    "delta_t = 0.01\n",
    "x = x0.copy()\n",
    "v = np.array([v0_abs*math.cos(alpha_rad), 0, \n",
    "              v0_abs*math.sin(alpha_rad)],\n",
    "              np.float32)"
   ]
  },
  {
   "cell_type": "code",
   "execution_count": 2,
   "metadata": {
    "collapsed": false
   },
   "outputs": [
    {
     "data": {
      "text/plain": [
       "[<matplotlib.lines.Line2D at 0x7f7938e92320>]"
      ]
     },
     "execution_count": 2,
     "metadata": {},
     "output_type": "execute_result"
    },
    {
     "data": {
      "image/png": "[encoded data removed]",
      "text/plain": [
       "<matplotlib.figure.Figure at 0x7f795c645a20>"
      ]
     },
     "metadata": {},
     "output_type": "display_data"
    }
   ],
   "source": [
    "#\n",
    "# Liste fuer die Zwischenpositionen\n",
    "pos_list = []\n",
    "#\n",
    "# Berechnung\n",
    "while x[2] >= 0.0:\n",
    "    x = x + v * delta_t +  a * delta_t**2 / 2\n",
    "    v = v + a * delta_t\n",
    "    pos_list.append(x)\n",
    "#\n",
    "# Anzeige\n",
    "plt.plot([x[0] for x in pos_list], [x[2] for x in pos_list])"
   ]
  },
  {
   "cell_type": "markdown",
   "metadata": {},
   "source": [
    "Initialisierung des Prototypen mit Werten"
   ]
  },
  {
   "cell_type": "code",
   "execution_count": 238,
   "metadata": {
    "collapsed": false
   },
   "outputs": [],
   "source": [
    "import numpy as np\n",
    "Position_Erde = np.array((149_597_890_000, 0),dtype=np.float128)\n",
    "Position_Sonne = np.array((0, 0),dtype=np.float128)\n",
    "Geschwindigkeit_Erde =np.array((0, 29.786 * 10**3),dtype=np.float128)\n",
    "Geschwindigkeit_Sonne = np.array((0, 0),dtype=np.float128)\n",
    "Masse_Erde = 5.97219 * 10 ** 24\n",
    "Masse_Sonne = 1.9889 * 10 ** 30\n",
    "G = 6.672 * 10 ** -11"
   ]
  },
  {
   "cell_type": "markdown",
   "metadata": {},
   "source": [
    "Ausrechnung der neuen Position der Erde um die Sonne"
   ]
  },
  {
   "cell_type": "code",
   "execution_count": 241,
   "metadata": {
    "collapsed": false
   },
   "outputs": [],
   "source": [
    "import math\n",
    "\n",
    "pos_list = []\n",
    "dt = 1\n",
    "\n",
    "for _ in range (100000): \n",
    "    Abstand = Position_Erde - Position_Sonne\n",
    "    #print(Abstand)\n",
    "    Betrag = math.sqrt( Abstand[0]**2 + Abstand[1] ** 2)\n",
    "\n",
    "    Kraft = G * (Masse_Erde * Masse_Sonne / (Betrag ** 3)) * Abstand\n",
    "    #print(Kraft)\n",
    "    \n",
    "    Beschleunigung = Kraft / Masse_Erde\n",
    "    #print(Beschleunigung)\n",
    "    \n",
    "    Neue_Position = Position_Erde + dt * Geschwindigkeit_Erde + (dt ** 2 / 2) * Beschleunigung\n",
    "    #print(Neue_Position)\n",
    "    Position_Erde = Neue_Position\n",
    "    \n",
    "    Neue_Geschwindigkeit = Geschwindigkeit_Erde + dt * Beschleunigung\n",
    "    #print(Neue_Geschwindigkeit)\n",
    "    Geschwindigkeit_Erde = Neue_Geschwindigkeit\n",
    "    \n",
    "    pos_list.append(Neue_Position)\n",
    "    "
   ]
  },
  {
   "cell_type": "code",
   "execution_count": 242,
   "metadata": {
    "collapsed": false
   },
   "outputs": [
    {
     "data": {
      "text/plain": [
       "[<matplotlib.lines.Line2D at 0x7f793550ec50>]"
      ]
     },
     "execution_count": 242,
     "metadata": {},
     "output_type": "execute_result"
    },
    {
     "data": {
      "image/png": "[encoded data removed]",
      "text/plain": [
       "<matplotlib.figure.Figure at 0x7f79355c1240>"
      ]
     },
     "metadata": {},
     "output_type": "display_data"
    }
   ],
   "source": [
    "#print(pos_list)\n",
    "\n",
    "plt.plot([x[0] for x in pos_list], [x[1] for x in pos_list])"
   ]
  }
 ],
 "metadata": {
  "kernelspec": {
   "display_name": "Python [conda root]",
   "language": "python",
   "name": "conda-root-py"
  },
  "language_info": {
   "codemirror_mode": {
    "name": "ipython",
    "version": 3
   },
   "file_extension": ".py",
   "mimetype": "text/x-python",
   "name": "python",
   "nbconvert_exporter": "python",
   "pygments_lexer": "ipython3",
   "version": "3.6.0"
  },
  "latex_envs": {
   "LaTeX_envs_menu_present": true,
   "autocomplete": true,
   "bibliofile": "biblio.bib",
   "cite_by": "apalike",
   "current_citInitial": 1,
   "eqLabelWithNumbers": true,
   "eqNumInitial": 1,
   "hotkeys": {
    "equation": "Ctrl-E",
    "itemize": "Ctrl-I"
   },
   "labels_anchors": false,
   "latex_user_defs": false,
   "report_style_numbering": false,
   "user_envs_cfg": false
  }
 },
 "nbformat": 4,
 "nbformat_minor": 2
}
