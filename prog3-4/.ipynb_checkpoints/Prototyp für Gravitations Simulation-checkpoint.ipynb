{
 "cells": [
  {
   "cell_type": "markdown",
   "metadata": {},
   "source": [
    "**Import des Matplot Beispiels**"
   ]
  },
  {
   "cell_type": "code",
   "execution_count": null,
   "metadata": {
    "collapsed": true
   },
   "outputs": [],
   "source": [
    "# Prototyp\n",
    "import numpy as np\n",
    "import math\n",
    "import matplotlib.pyplot as plt\n",
    "%matplotlib inline\n",
    "#\n",
    "# Start\n",
    "x0 = np.array([20, 0, 10], np.float32)\n",
    "v0_abs = 20\n",
    "alpha = 45\n",
    "#alpha = 0\n",
    "alpha_rad = math.radians(alpha)\n",
    "g = -9.81\n",
    "a = np.array([0, 0, g], np.float32)\n",
    "delta_t = 0.01\n",
    "x = x0.copy()\n",
    "v = np.array([v0_abs*math.cos(alpha_rad), 0, \n",
    "              v0_abs*math.sin(alpha_rad)],\n",
    "              np.float32)"
   ]
  },
  {
   "cell_type": "code",
   "execution_count": null,
   "metadata": {},
   "outputs": [],
   "source": [
    "#\n",
    "# Liste fuer die Zwischenpositionen\n",
    "pos_list = []\n",
    "#\n",
    "# Berechnung\n",
    "while x[2] >= 0.0:\n",
    "    x = x + v * delta_t +  a * delta_t**2 / 2\n",
    "    v = v + a * delta_t\n",
    "    pos_list.append(x)\n",
    "#\n",
    "# Anzeige\n",
    "plt.plot([x[0] for x in pos_list], [x[2] for x in pos_list])"
   ]
  },
  {
   "cell_type": "markdown",
   "metadata": {},
   "source": [
    "Initialisierung des Prototypen mit Werten"
   ]
  },
  {
   "cell_type": "code",
   "execution_count": 1,
   "metadata": {
    "collapsed": true
   },
   "outputs": [],
   "source": [
    "import numpy as np\n",
    "Position_Erde = np.array((149_597_890_000, 0),dtype=np.float128)\n",
    "Position_Sonne = np.array((0, 0),dtype=np.float128)\n",
    "Geschwindigkeit_Erde =np.array((0, 29.786 * 10**3),dtype=np.float128)\n",
    "Geschwindigkeit_Sonne = np.array((0, 0),dtype=np.float128)\n",
    "Masse_Erde = 5.97219 * 10 ** 24\n",
    "Masse_Sonne = 1.9889 * 10 ** 30\n",
    "G = 6.672 * 10 ** -11"
   ]
  },
  {
   "cell_type": "markdown",
   "metadata": {},
   "source": [
    "Ausrechnung der neuen Position der Erde um die Sonne"
   ]
  },
  {
   "cell_type": "code",
   "execution_count": 2,
   "metadata": {},
   "outputs": [],
   "source": [
    "import math\n",
    "\n",
    "pos_list = []\n",
    "dt = 60\n",
    "Jahr = 360 * 24 * 60\n",
    "\n",
    "for _ in range (Jahr): \n",
    "    Abstand_Erde  = Position_Sonne - Position_Erde\n",
    "    Abstand_Sonne = Position_Erde  - Position_Sonne\n",
    "    Betrag_Erde  = math.sqrt( Abstand_Erde [0]**2 + Abstand_Erde [1] ** 2)\n",
    "    Betrag_Sonne = math.sqrt( Abstand_Sonne[0]**2 + Abstand_Sonne[1] ** 2)\n",
    "\n",
    "    Kraft_Erde  = G * (Masse_Erde * Masse_Sonne / (Betrag_Erde  ** 3)) * Abstand_Erde\n",
    "    Kraft_Sonne = G * (Masse_Erde * Masse_Sonne / (Betrag_Sonne ** 3)) * Abstand_Sonne\n",
    "    \n",
    "    Beschleunigung_Erde  = Kraft_Erde  / Masse_Erde\n",
    "    Beschleunigung_Sonne = Kraft_Sonne / Masse_Sonne\n",
    "    \n",
    "    Position_Erde  = Position_Erde  + dt * Geschwindigkeit_Erde  + ((dt ** 2) / 2) * Beschleunigung_Erde\n",
    "    Geschwindigkeit_Erde  += dt * Beschleunigung_Erde\n",
    "    \n",
    "    Position_Sonne = Position_Sonne + dt * Geschwindigkeit_Sonne + ((dt ** 2) / 2) * Beschleunigung_Sonne\n",
    "    Geschwindigkeit_Sonne += dt * Beschleunigung_Sonne\n",
    "    \n",
    "    pos_list.append(Position_Erde)\n",
    "    "
   ]
  },
  {
   "cell_type": "code",
   "execution_count": 3,
   "metadata": {},
   "outputs": [
    {
     "data": {
      "image/png": "[encoded data removed]",
      "text/plain": [
       "<matplotlib.figure.Figure at 0x7fbf705c16d8>"
      ]
     },
     "metadata": {},
     "output_type": "display_data"
    }
   ],
   "source": [
    "import matplotlib.pyplot as plt\n",
    "\n",
    "plt.plot([x[0] for x in pos_list], [x[1] for x in pos_list])\n",
    "plt.show()"
   ]
  },
  {
   "cell_type": "code",
   "execution_count": null,
   "metadata": {
    "collapsed": true
   },
   "outputs": [],
   "source": []
  }
 ],
 "metadata": {
  "kernelspec": {
   "display_name": "Python 3",
   "language": "python",
   "name": "python3"
  },
  "language_info": {
   "codemirror_mode": {
    "name": "ipython",
    "version": 3
   },
   "file_extension": ".py",
   "mimetype": "text/x-python",
   "name": "python",
   "nbconvert_exporter": "python",
   "pygments_lexer": "ipython3",
   "version": "3.6.3"
  },
  "latex_envs": {
   "LaTeX_envs_menu_present": true,
   "autocomplete": true,
   "bibliofile": "biblio.bib",
   "cite_by": "apalike",
   "current_citInitial": 1,
   "eqLabelWithNumbers": true,
   "eqNumInitial": 1,
   "hotkeys": {
    "equation": "Ctrl-E",
    "itemize": "Ctrl-I"
   },
   "labels_anchors": false,
   "latex_user_defs": false,
   "report_style_numbering": false,
   "user_envs_cfg": false
  }
 },
 "nbformat": 4,
 "nbformat_minor": 2
}
