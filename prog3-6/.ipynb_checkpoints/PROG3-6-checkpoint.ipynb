{
 "cells": [
  {
   "cell_type": "markdown",
   "metadata": {},
   "source": [
    "1. Experimentieren Sie mit den funktionalen Konstukten, die Python zur Verfügung steht, um folgende Aufgaben ohne die Verwendung von *numpy* zu lösen. Versuchen Sie dabei Schleifen möglichst zu vermeiden:\n",
    "     1. Erzeugung einer Wertetabelle für die Funktion $y(x) = \\cos(x)\\, e^{-x^2}$ für den Wertebereic $x = [0:7]$\n",
    "     1. Re-Implementierung der Funktion *max* für Listen unter Verwendung von *reduce*.\n",
    "1. In den 60er Jahren des letzten Jahrhunderts wurde der Begriff [\"Softwarekrise\"](https://de.wikipedia.org/wiki/Softwarekrise) geprägt. \n",
    "    1. Welche Maßnahmen sollen helfen, um diese Krise zu überwinden? \n",
    "    1. Glauben Sie, dass die Softwarekrise bald überstanden sein wird?  \n",
    "1. Nutzen Sie die in Listing 1 angegebene Funktion, um den von Ihrem TSP-Programm gefundenen kürzesten Weg grafisch auszugeben.\n",
    "1. Das Ergebnis, das Ihre Pi-Bestimmung nach Monte Carlo liefert, hängt stark vom verwendeten Zufallsgenerator ab.\n",
    "    1. Implementieren Sie einen eigenen Generator für Zufallszahlen in Python. Verwenden Sie dafür einen [linearen Kongruenzgenerator](http://de.wikipedia.org/wiki/Kongruenzgenerator). Geeignete Einstellungen für die Parameter finden Sie in einer Tabelle auf [dieser Seite](http://en.wikipedia.org/wiki/Linear_congruential_generator). \n",
    "    1. Vergleichen Sie die Geschwindigkeit mit dem in der Python-Bibliothek vorhandenen Verfahren. Wie ändert sich die Genauigkeit Ihrer $\\pi$-Berechnung, wenn Sie ihren eigenen Generator verwenden? (Experiment)"
   ]
  },
  {
   "cell_type": "markdown",
   "metadata": {},
   "source": [
    "** Aufgabe 1A ** \n",
    "\n",
    "Erzeugung einer Wertetabelle für die Funktion $y(x) = \\cos(x)\\, e^{-x^2}$ für den Wertebereic $x = [0:7]$"
   ]
  },
  {
   "cell_type": "code",
   "execution_count": 95,
   "metadata": {},
   "outputs": [
    {
     "name": "stdout",
     "output_type": "stream",
     "text": [
      "[(0, 1.0), (1, 0.19876611034641298), (2, -0.007621995182886547), (3, -0.00012217478005274374), (4, -7.355789907801574e-08), (5, 3.939484508326299e-12), (6, 2.2271369008070363e-16), (7, 3.9526233208739075e-22), (8, -2.3335453879744942e-29), (9, -6.049610825683713e-36)]\n"
     ]
    }
   ],
   "source": [
    "import math\n",
    "x = range(10)\n",
    "#x = [0, 1, 2, 3, 4, 5, 6, 7]\n",
    "\n",
    "def cos(x):\n",
    "     return math.cos(x)\n",
    "     \n",
    "def mul(x,y):\n",
    "     return x * y\n",
    "     \n",
    "def exp(x):\n",
    "     return math.exp(x)\n",
    "     \n",
    "def negativ(x):\n",
    "     return -x\n",
    "     \n",
    "def squared(x):\n",
    "     return x*x\n",
    "     \n",
    "def function(x):\n",
    "    return mul(cos(x),exp(negativ(squared(x))))\n",
    "\n",
    "y = list(map(function, x))\n",
    "f = zip (x,y)\n",
    "print(list(f))\n"
   ]
  },
  {
   "cell_type": "markdown",
   "metadata": {},
   "source": [
    "**Aufgabe 1B** Re-Implementierung der Funktion max für Listen unter Verwendung von reduce."
   ]
  },
  {
   "cell_type": "code",
   "execution_count": 96,
   "metadata": {},
   "outputs": [
    {
     "name": "stdout",
     "output_type": "stream",
     "text": [
      "[421, 313, 267, 389, 228, 236, 264, 178, 109, 475, 388, 374, 60, 123, 200, 348, 323, 353, 446, 259, 59, 251, 2, 170, 363, 76, 476, 272, 453, 183, 417, 311, 478, 333, 303, 278, 57, 241, 111, 121, 474, 261, 352, 243, 354, 466, 253, 298, 381, 31, 81, 393, 484, 58, 126, 289, 470, 101, 292, 187, 444, 293, 310, 197, 283, 162, 72, 407, 29, 443, 411, 375, 392, 26, 14, 131, 165, 426, 355, 463, 125, 397, 376, 402, 204, 410, 462, 343, 498, 337, 56, 135, 191, 415, 266, 385, 16, 349, 373, 232, 180, 330, 151, 149, 100, 132, 340, 297, 493, 369, 341, 15, 483, 102, 5, 451, 460, 118, 395, 469, 68, 150, 34, 116, 122, 205, 120, 47, 86, 495, 215, 262, 203, 490, 196, 368, 172, 225, 38, 42, 365, 285, 184, 458, 156, 37, 231, 326, 412, 456, 211, 95, 400, 277, 65, 87, 273, 429, 41, 80, 305, 137, 494, 229, 83, 242, 85, 78, 214, 360, 35, 104, 163, 46, 427, 309, 329, 346, 3, 279, 61, 0, 436, 371, 134, 92, 11, 234, 450, 481, 161, 390, 290, 249, 265, 334, 276, 212, 482, 202, 117, 316, 324, 287, 472, 437, 294, 98, 396, 114, 296, 464, 30, 327, 344, 320, 136, 434, 306, 199, 210, 370, 43, 413, 367, 99, 372, 275, 230, 416, 91, 457, 148, 74, 487, 171, 406, 489, 335, 146, 53, 223, 32, 50, 167, 201, 70, 209, 195, 263, 130, 181, 158, 274, 467, 88, 491, 440, 220, 401, 173, 188, 331, 127, 90, 405, 362, 48, 10, 497, 1, 257, 255, 66, 4, 455, 454, 17, 269, 357, 394, 194, 119, 94, 382, 218, 175, 473, 399, 97, 49, 351, 339, 480, 139, 315, 237, 107, 143, 84, 108, 328, 428, 398, 271, 227, 160, 322, 28, 154, 314, 408, 177, 425, 189, 422, 138, 79, 433, 13, 391, 96, 268, 157, 51, 383, 332, 432, 140, 226, 233, 106, 461, 55, 449, 336, 447, 12, 431, 219, 7, 40, 459, 321, 71, 33, 414, 318, 18, 239, 492, 485, 281, 465, 75, 103, 152, 288, 325, 129, 404, 221, 246, 471, 254, 256, 89, 6, 144, 448, 270, 356, 20, 63, 258, 307, 359, 124, 301, 308, 423, 247, 312, 378, 441, 222, 338, 319, 217, 216, 361, 430, 115, 420, 82, 295, 409, 248, 128, 364, 387, 317, 25, 280, 424, 244, 419, 304, 141, 145, 155, 62, 479, 291, 164, 113, 54, 110, 22, 380, 496, 19, 286, 176, 27, 73, 67, 442, 190, 192, 105, 238, 499, 435, 166, 386, 142, 284, 186, 347, 193, 39, 299, 182, 445, 52, 21, 245, 345, 488, 240, 300, 153, 23, 260, 8, 9, 438, 418, 147, 206, 379, 169, 45, 77, 439, 133, 36, 224, 452, 64, 384, 208, 252, 168, 282, 235, 358, 250, 93, 342, 302, 24, 477, 366, 69, 159, 112, 350, 403, 468, 185, 486, 198, 179, 44, 377, 213, 174, 207]\n",
      "\n",
      "499\n"
     ]
    }
   ],
   "source": [
    "import functools\n",
    "from random import shuffle\n",
    "x = list(range(500))\n",
    "shuffle(x)\n",
    "print(x)\n",
    "\n",
    "def max(a,b):\n",
    "    if a < b:\n",
    "        return b\n",
    "    else:\n",
    "        return a\n",
    "\n",
    "maximum = functools.reduce(max,x)\n",
    "print()\n",
    "print(maximum)"
   ]
  },
  {
   "cell_type": "markdown",
   "metadata": {},
   "source": [
    "** Aufgabe 2A ** \n",
    "\n",
    "Welche Maßnahmen sollen helfen, um diese Krise zu überwinden?"
   ]
  },
  {
   "cell_type": "markdown",
   "metadata": {},
   "source": [
    "Das wieder einsetzen von bereits getesteten Code und von zuverlässigen Softwarebibliothenk.\n",
    "Stärkere Nutzung von offenen Standards, um Anbieter unabhängig zu sein, sowie einfacherer Ausstausch von verschieden Implementierungen zu erlauben. Dies Ermöglicht bessere Versionen schneller zu benutzen.\n",
    "Bessere Kommunikation vom Programmierer und User sollen Fehlimplementierung und frust ersparen."
   ]
  },
  {
   "cell_type": "markdown",
   "metadata": {},
   "source": [
    "** Aufgabe 2B **\n",
    "\n",
    "Glauben Sie, dass die Softwarekrise bald überstanden sein wird?"
   ]
  },
  {
   "cell_type": "markdown",
   "metadata": {},
   "source": [
    "Da die Software heutzutage noch größer ist als noch vor ein paar Jahrzehnten und es sogar noch stärker wächst,\n",
    "glaube ich das die Softwarekrise nie überstanden wird. Es aber möglich ist sie sinnvoll im Griff zu haben."
   ]
  },
  {
   "cell_type": "markdown",
   "metadata": {},
   "source": [
    "** Aufgabe 3 ** \n",
    "\n",
    "Nutzen Sie die in Listing 1 angegebene Funktion, um den von Ihrem TSP-Programm gefundenen kürzesten Weg grafisch auszugeben."
   ]
  },
  {
   "cell_type": "code",
   "execution_count": 97,
   "metadata": {
    "collapsed": true
   },
   "outputs": [],
   "source": [
    "#staedte_positionen = ((0.010319427306382911, 0.8956251389386756), (0.6999898714299346, 0.42254500074835377), (0.4294574582950912, 0.4568408794115657), (0.6005454852683483, 0.9295407203370832), (0.9590226056623925, 0.581453646599427), (0.748521134122647, 0.5437775417153159), (0.7571232013282426, 0.606435031856663), (0.07528757443413125, 0.07854082131763074), (0.32346175150639334, 0.7291706487873425), (0.012935451483722882, 0.974440252089956), (0.7894689664351368, 0.8925464165283283), (0.5017081207027582, 0.2323298297211428), (0.5994368069089712, 0.006438246252584379), (0.3471372841416518, 0.32362936726486546), (0.9080568556459205, 0.5872162265716462), (0.008216651916432838, 0.5605251786730867), (0.12281649843134745, 0.778836327426156), (0.9698199622470612, 0.9108771425774694), (0.22977122891732482, 0.9692739885317619), (0.8192293086323663, 0.5857981607663957), (0.1422079724040628, 0.8147259475583606), (0.6706795717064135, 0.591561956032189), (0.15756919328106178, 0.6331745919782176), (0.9932745190952539, 0.20429268341528184), (0.21104352892679712, 0.8836996377783977), (0.15162951778287448, 0.43829883402923786), (0.1014198097226855, 0.5877946138306056), (0.8961534561384676, 0.6498866051905969), (0.02348788064910401, 0.2555771312427847), (0.7629752603198586, 0.031097354437254032), (0.9202799257088203, 0.8545409146117934), (0.4740012769258859, 0.30554661789326976), (0.9662984341217945, 0.24235140218349704), (0.236385903920734, 0.8065137287975154), (0.7509340695304845, 0.9276718423781918), (0.891709366337186, 0.9691233497708065), (0.45766675798331646, 0.3966074453757069), (0.362463818656684, 0.629782983287922), (0.3895828182648007, 0.11182372435220689), (0.8007718207811885, 0.07083259575886258), (0.9395297121272306, 0.003549829042441055), (0.9990444201768337, 0.4816092706412669), (0.806664037655748, 0.45636915118812094), (0.7248316046403981, 0.4136143673445848), (0.9797254747122175, 0.5348075095243779), (0.832410347070477, 0.36236092065071435), (0.17697174259486892, 0.09903555437885947), (0.3320429025096797, 0.42538137689172295), (0.010390541304141299, 0.3196764197089256), (0.13647705960093703, 0.6166884292149969), (0.7413967117502017, 0.6758731780971651), (0.5057620560480408, 0.6176726900765315), (0.811221033004999, 0.15436803010778977), (0.5010541138760939, 0.35001152238091926), (0.9413826105193199, 0.9418596542666187), (0.891256361420491, 0.7886584654021789), (0.3676445849723219, 0.9387145658378656), (0.7976904766536591, 0.7297167662430665), (0.5966826978617474, 0.29179542156826277), (0.6209578021367281, 0.22193571777470145), (0.8298034730084203, 0.5164834220744453), (0.1974315640582841, 0.9764209254933037), (0.3181560706032852, 0.9659291942205317), (0.8665674546422951, 0.8281710981528015), (0.341232980616892, 0.5707946637100852), (0.8931358896561539, 0.40864805338293986), (0.26644032823825714, 0.9989727471390323), (0.3993087575662785, 0.009572468741341433), (0.7385521851703551, 0.8947961501854975), (0.3265958212912289, 0.12135269959328665), (0.33657186037515696, 0.04678149607307802), (0.6574688023519235, 0.14620381872693322), (0.9232073321379433, 0.464399378682132), (0.3350568606219765, 0.8140710044746052), (0.43439242705535963, 0.6850627844635814), (0.6748600302251079, 0.17179426903224415), (0.3257145924815924, 0.17892361406234325), (0.9843761318782708, 0.7246387654097534), (0.3302488609623919, 0.5461838792803725), (0.942182061647097, 0.271796972592925), (0.7992439374549364, 0.3344916623897427), (0.07722251160513627, 0.5998378921773792), (0.9551490162437984, 0.99084148343811), (0.2994585617190968, 0.8420506992016424), (0.692980959785355, 0.832838090803397), (0.31555831127132894, 0.06401272570899819), (0.02665227648457802, 0.5242147042171419), (0.1974784428862567, 0.9137326594564479), (0.8486377116437235, 0.773093204292392), (0.6588651068050204, 0.6191834372968826), (0.9294759207447961, 0.04471010558595201), (0.9407045003182903, 0.7240803846820537), (0.6814942236797052, 0.6579517970003296), (0.2956248273119104, 0.4141031496785965), (0.729642956744248, 0.18897087844791205), (0.6092213719795501, 0.12514914017649392), (0.7431271140678826, 0.12660475585183406), (0.9023640654012873, 0.21133242457776658), (0.3513947221768753, 0.10988741056845952), (0.7560785506387285, 0.1994584377393509))"
   ]
  },
  {
   "cell_type": "code",
   "execution_count": 98,
   "metadata": {},
   "outputs": [
    {
     "name": "stdout",
     "output_type": "stream",
     "text": [
      "Found better route with length: 4.301794726343563\n",
      "Found better route with length: 4.247425957209027\n",
      "Found better route with length: 4.147154076461859\n",
      "Found better route with length: 4.0740145143825055\n",
      "Found better route with length: 4.064037723043823\n",
      "Found better route with length: 3.9767698831290272\n",
      "Found better route with length: 3.9184956427353046\n",
      "Found better route with length: 3.9085188513966225\n",
      "Found better route with length: 3.8482729750269264\n",
      "Found better route with length: 3.748410021602956\n",
      "Found better route with length: 3.715298205063918\n",
      "Found better route with length: 3.7053214137252364\n",
      "Found better route with length: 3.6774866865342193\n",
      "Found better route with length: 3.6443748699951812\n",
      "Found better route with length: 3.6343980786564996\n",
      "Found better route with length: 3.4747770328900836\n",
      "Found better route with length: 3.441665216351045\n",
      "Found better route with length: 3.431688425012363\n",
      "still 352880 runs of 362880 left. Best route length atm: 3.431688425012363\n",
      "Found better route with length: 3.4024243554111298\n",
      "Found better route with length: 3.3300414031189582\n",
      "still 342880 runs of 362880 left. Best route length atm: 3.3300414031189582\n",
      "still 332880 runs of 362880 left. Best route length atm: 3.3300414031189582\n",
      "Found better route with length: 3.2471798246240264\n",
      "Found better route with length: 3.214068008084988\n",
      "Found better route with length: 3.2040912167463054\n",
      "Found better route with length: 3.204091216746305\n",
      "still 322880 runs of 362880 left. Best route length atm: 3.204091216746305\n",
      "still 312880 runs of 362880 left. Best route length atm: 3.204091216746305\n",
      "still 302880 runs of 362880 left. Best route length atm: 3.204091216746305\n",
      "still 292880 runs of 362880 left. Best route length atm: 3.204091216746305\n",
      "still 282880 runs of 362880 left. Best route length atm: 3.204091216746305\n",
      "still 272880 runs of 362880 left. Best route length atm: 3.204091216746305\n",
      "still 262880 runs of 362880 left. Best route length atm: 3.204091216746305\n",
      "still 252880 runs of 362880 left. Best route length atm: 3.204091216746305\n",
      "still 242880 runs of 362880 left. Best route length atm: 3.204091216746305\n",
      "still 232880 runs of 362880 left. Best route length atm: 3.204091216746305\n",
      "still 222880 runs of 362880 left. Best route length atm: 3.204091216746305\n",
      "still 212880 runs of 362880 left. Best route length atm: 3.204091216746305\n",
      "still 202880 runs of 362880 left. Best route length atm: 3.204091216746305\n",
      "still 192880 runs of 362880 left. Best route length atm: 3.204091216746305\n",
      "still 182880 runs of 362880 left. Best route length atm: 3.204091216746305\n",
      "still 172880 runs of 362880 left. Best route length atm: 3.204091216746305\n",
      "still 162880 runs of 362880 left. Best route length atm: 3.204091216746305\n",
      "still 152880 runs of 362880 left. Best route length atm: 3.204091216746305\n",
      "still 142880 runs of 362880 left. Best route length atm: 3.204091216746305\n",
      "still 132880 runs of 362880 left. Best route length atm: 3.204091216746305\n",
      "still 122880 runs of 362880 left. Best route length atm: 3.204091216746305\n",
      "still 112880 runs of 362880 left. Best route length atm: 3.204091216746305\n",
      "still 102880 runs of 362880 left. Best route length atm: 3.204091216746305\n",
      "still 92880 runs of 362880 left. Best route length atm: 3.204091216746305\n",
      "still 82880 runs of 362880 left. Best route length atm: 3.204091216746305\n",
      "still 72880 runs of 362880 left. Best route length atm: 3.204091216746305\n",
      "still 62880 runs of 362880 left. Best route length atm: 3.204091216746305\n",
      "still 52880 runs of 362880 left. Best route length atm: 3.204091216746305\n",
      "still 42880 runs of 362880 left. Best route length atm: 3.204091216746305\n",
      "still 32880 runs of 362880 left. Best route length atm: 3.204091216746305\n",
      "still 22880 runs of 362880 left. Best route length atm: 3.204091216746305\n",
      "still 12880 runs of 362880 left. Best route length atm: 3.204091216746305\n",
      "still 2880 runs of 362880 left. Best route length atm: 3.204091216746305\n",
      "Best route: 3.204091216746305\n",
      "[(0.010319427306382911, 0.8956251389386756), (0.32346175150639334, 0.7291706487873425), (0.6005454852683483, 0.9295407203370832), (0.9590226056623925, 0.581453646599427), (0.7571232013282426, 0.606435031856663), (0.748521134122647, 0.5437775417153159), (0.6999898714299346, 0.42254500074835377), (0.4294574582950912, 0.4568408794115657), (0.07528757443413125, 0.07854082131763074)]\n"
     ]
    }
   ],
   "source": [
    "\"\"\"\n",
    "Traveling Salesman\n",
    "\"\"\"\n",
    "\n",
    "import math\n",
    "\n",
    "STAEDTE_POSITIONEN = ((0.010319427306382911, 0.8956251389386756),\n",
    "                      (0.6999898714299346, 0.42254500074835377),\n",
    "                      (0.4294574582950912, 0.4568408794115657),\n",
    "                      (0.6005454852683483, 0.9295407203370832),\n",
    "                      (0.9590226056623925, 0.581453646599427),\n",
    "                      (0.748521134122647, 0.5437775417153159),\n",
    "                      (0.7571232013282426, 0.606435031856663),\n",
    "                      (0.07528757443413125, 0.07854082131763074),\n",
    "                      (0.32346175150639334, 0.7291706487873425),\n",
    "                      (0.012935451483722882, 0.974440252089956),\n",
    "                      (0.7894689664351368, 0.8925464165283283),\n",
    "                      (0.5017081207027582, 0.2323298297211428),\n",
    "                      (0.5994368069089712, 0.006438246252584379),\n",
    "                      (0.3471372841416518, 0.32362936726486546),\n",
    "                      (0.9080568556459205, 0.5872162265716462),\n",
    "                      (0.008216651916432838, 0.5605251786730867))\n",
    "POSITION = STAEDTE_POSITIONEN[:9]\n",
    "BEST_ROUTE = []\n",
    "BEST_LENGTH = 9999999999999\n",
    "TESTED_ROUTES = 0\n",
    "ROUTES_TO_TRY = 0\n",
    "\n",
    "\n",
    "def recursive(recursive_list, fixed_positions):\n",
    "    \"\"\"\n",
    "    Calculates the recursive TSP\n",
    "    \"\"\"\n",
    "    if len(recursive_list) == fixed_positions:\n",
    "        test_route(recursive_list)\n",
    "        return recursive_list\n",
    "\n",
    "    for i in range(fixed_positions, len(recursive_list)):\n",
    "        working_list = recursive_list.copy()\n",
    "        working_tuple = recursive_list[fixed_positions]\n",
    "        working_list[fixed_positions] = recursive_list[i]\n",
    "        working_list[i] = working_tuple\n",
    "        working_list = list(working_list)\n",
    "        return_list = recursive(working_list, fixed_positions + 1)\n",
    "    return return_list\n",
    "\n",
    "\n",
    "def test_route(route):\n",
    "    \"\"\"\n",
    "    Calls the calculation of a single route\n",
    "    :param route: list of one permutation\n",
    "    :return: nothing\n",
    "    \"\"\"\n",
    "    global TESTED_ROUTES\n",
    "    global ROUTES_TO_TRY\n",
    "    global BEST_ROUTE\n",
    "    global BEST_LENGTH\n",
    "\n",
    "    TESTED_ROUTES = TESTED_ROUTES + 1\n",
    "    if TESTED_ROUTES % 10000 == 0:\n",
    "        print(\"still {} runs of {} left. Best route length atm: {}\"\n",
    "              .format(ROUTES_TO_TRY - TESTED_ROUTES, ROUTES_TO_TRY, BEST_LENGTH))\n",
    "\n",
    "    summe = 0\n",
    "    for i in range(0, len(route) - 1):\n",
    "        summe = summe + math.hypot(route[i][0] - route[i + 1][0], route[i][1] - route[i + 1][1])\n",
    "    summe = summe + math.hypot(route[0][0] - route[-1][0], route[0][1] - route[-1][1])\n",
    "    if summe < BEST_LENGTH:\n",
    "        print(\"Found better route with length: {}\".format(summe))\n",
    "        BEST_LENGTH = summe\n",
    "        BEST_ROUTE = route\n",
    "\n",
    "\n",
    "def main():\n",
    "    \"\"\"\n",
    "    Main function for pylint\n",
    "    \"\"\"\n",
    "    global ROUTES_TO_TRY\n",
    "    ROUTES_TO_TRY = math.factorial(len(POSITION))\n",
    "    converted_to_list = list(POSITION)\n",
    "    recursive(converted_to_list, 0)\n",
    "\n",
    "    print(\"Best route: {}\".format(BEST_LENGTH))\n",
    "    print(BEST_ROUTE)\n",
    "    \n",
    "    staedte_positionen = BEST_ROUTE\n",
    "\n",
    "main()\n"
   ]
  },
  {
   "cell_type": "code",
   "execution_count": 99,
   "metadata": {
    "collapsed": true
   },
   "outputs": [],
   "source": [
    "import numpy as np\n",
    "import matplotlib.pyplot as plt\n",
    "%matplotlib inline\n",
    "def pfad_ausgabe(path):\n",
    "    pointArray = np.array(path)\n",
    "    plt.plot(pointArray[0,0], pointArray[0,1], 'ro')\n",
    "    plt.plot(pointArray[1:-1,0], pointArray[1:-1,1], 'bo')\n",
    "    plt.plot(pointArray[:,0], pointArray[:,1], '-k')\n",
    "    plt.yticks(())\n",
    "    plt.xticks(())\n",
    "    plt.show()"
   ]
  },
  {
   "cell_type": "code",
   "execution_count": 100,
   "metadata": {},
   "outputs": [
    {
     "data": {
      "image/png": "[encoded data removed]",
      "text/plain": [
       "<matplotlib.figure.Figure at 0x7f2f736d5668>"
      ]
     },
     "metadata": {},
     "output_type": "display_data"
    }
   ],
   "source": [
    "pfad_ausgabe(list(staedte_positionen[0:10]) + [staedte_positionen[0]])"
   ]
  },
  {
   "cell_type": "markdown",
   "metadata": {},
   "source": [
    "** Aufgabe 4A **\n",
    "\n",
    "Implementieren Sie einen eigenen Generator für Zufallszahlen in Python. Verwenden Sie dafür einen [linearen Kongruenzgenerator](http://de.wikipedia.org/wiki/Kongruenzgenerator). Geeignete Einstellungen für die Parameter finden Sie in einer Tabelle auf [dieser Seite](http://en.wikipedia.org/wiki/Linear_congruential_generator). "
   ]
  },
  {
   "cell_type": "code",
   "execution_count": 101,
   "metadata": {},
   "outputs": [
    {
     "name": "stdout",
     "output_type": "stream",
     "text": [
      "1207746483\n",
      "91634029\n",
      "1928485138\n",
      "2035335050\n",
      "785432193\n",
      "968958803\n",
      "1927221909\n",
      "1340718562\n",
      "641558005\n",
      "559524782\n"
     ]
    }
   ],
   "source": [
    "import math\n",
    "import time\n",
    "\n",
    "modulus = math.pow(2,31)-1\n",
    "multiplier = 1103515245\n",
    "increment = 12345\n",
    "seed = time.time()\n",
    "random_value = seed\n",
    "\n",
    "def own_random():\n",
    "    global random_value\n",
    "    random_value = (multiplier * random_value + increment) % modulus\n",
    "    return (int)(random_value)\n",
    "\n",
    "for _ in range (10):\n",
    "    print(own_random())\n",
    "    "
   ]
  },
  {
   "cell_type": "markdown",
   "metadata": {},
   "source": [
    "** Aufgabe 4B **\n",
    "\n",
    "Vergleichen Sie die Geschwindigkeit mit dem in der Python-Bibliothek vorhandenen Verfahren. Wie ändert sich die Genauigkeit Ihrer $\\pi$-Berechnung, wenn Sie ihren eigenen Generator verwenden? (Experiment)"
   ]
  },
  {
   "cell_type": "markdown",
   "metadata": {},
   "source": [
    "Average Steps with own Random:\n",
    "116041\n",
    "116530\n",
    "116800\n",
    "117058\n",
    "117115\n",
    "117358\n",
    "117777\n",
    "118181\n",
    "118214\n",
    "118596\n",
    "118620\n",
    "118813\n",
    "119000\n",
    "119180\n",
    "119354\n",
    "119523\n",
    "119687\n",
    "120000\n",
    "119393\n",
    "118805\n",
    "118970\n",
    "118985\n",
    "119142\n",
    "119295\n",
    "119305\n",
    "119589\n",
    "119594\n",
    "119466\n",
    "119210\n",
    "\n",
    "Average Steps with Secrets Random Module:\n",
    "77380\n",
    "77441\n",
    "77727\n",
    "77777\n",
    "78043\n",
    "78085\n",
    "78333\n",
    "78367\n",
    "78400\n",
    "78627\n",
    "78846\n",
    "78867\n",
    "78888\n",
    "79090\n",
    "79285\n",
    "79298\n",
    "79482\n",
    "79491\n",
    "79500\n",
    "79672\n",
    "79838\n",
    "79682\n",
    "79687\n",
    "79692\n",
    "79848\n",
    "79552\n",
    "79117\n",
    "79130\n",
    "79285\n",
    "79436\n",
    "79444\n",
    "79452\n",
    "79594\n",
    "79600\n",
    "79473\n",
    "79610\n",
    "79615\n",
    "79620\n",
    "79750\n",
    "79753\n",
    "79878\n",
    "79879\n",
    "79880\n",
    "79882\n",
    "80000\n",
    "80000\n",
    "80113\n",
    "80112\n",
    "80111\n",
    "80219\n",
    "80217\n",
    "80215\n",
    "80319\n",
    "80315\n",
    "80416\n",
    "80309\n",
    "80102\n",
    "80000\n",
    "80000\n",
    "80099\n",
    "80098\n",
    "80097\n",
    "80192\n",
    "80285\n",
    "80283\n",
    "80280\n",
    "80462\n",
    "80458\n",
    "80454\n",
    "80450\n",
    "80535\n",
    "80442\n",
    "80438\n",
    "80260\n",
    "80258\n",
    "80170\n",
    "80169\n",
    "80168\n",
    "80166\n",
    "80247\n",
    "80163\n",
    "80243\n"
   ]
  },
  {
   "cell_type": "code",
   "execution_count": null,
   "metadata": {
    "collapsed": true
   },
   "outputs": [],
   "source": []
  }
 ],
 "metadata": {
  "kernelspec": {
   "display_name": "Python 3",
   "language": "python",
   "name": "python3"
  },
  "language_info": {
   "codemirror_mode": {
    "name": "ipython",
    "version": 3
   },
   "file_extension": ".py",
   "mimetype": "text/x-python",
   "name": "python",
   "nbconvert_exporter": "python",
   "pygments_lexer": "ipython3",
   "version": "3.6.3"
  },
  "latex_envs": {
   "LaTeX_envs_menu_present": true,
   "autocomplete": true,
   "bibliofile": "biblio.bib",
   "cite_by": "apalike",
   "current_citInitial": 1,
   "eqLabelWithNumbers": true,
   "eqNumInitial": 1,
   "hotkeys": {
    "equation": "Ctrl-E",
    "itemize": "Ctrl-I"
   },
   "labels_anchors": false,
   "latex_user_defs": false,
   "report_style_numbering": false,
   "user_envs_cfg": false
  }
 },
 "nbformat": 4,
 "nbformat_minor": 2
}
