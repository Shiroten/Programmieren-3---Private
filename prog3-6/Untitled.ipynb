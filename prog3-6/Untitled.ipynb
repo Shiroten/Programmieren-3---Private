{
 "cells": [
  {
   "cell_type": "markdown",
   "metadata": {},
   "source": [
    "1. Experimentieren Sie mit den funktionalen Konstukten, die Python zur Verfügung steht, um folgende Aufgaben ohne die Verwendung von *numpy* zu lösen. Versuchen Sie dabei Schleifen möglichst zu vermeiden:\n",
    "     1. Erzeugung einer Wertetabelle für die Funktion $y(x) = \\cos(x)\\, e^{-x^2}$ für den Wertebereic $x = [0:7]$\n",
    "     1. Re-Implementierung der Funktion *max* für Listen unter Verwendung von *reduce*.\n",
    "1. In den 60er Jahren des letzten Jahrhunderts wurde der Begriff [\"Softwarekrise\"](https://de.wikipedia.org/wiki/Softwarekrise) geprägt. \n",
    "    1. Welche Maßnahmen sollen helfen, um diese Krise zu überwinden? \n",
    "    1. Glauben Sie, dass die Softwarekrise bald überstanden sein wird?  \n",
    "1. Nutzen Sie die in Listing 1 angegebene Funktion, um den von Ihrem TSP-Programm gefundenen kürzesten Weg grafisch auszugeben.\n",
    "1. Das Ergebnis, das Ihre Pi-Bestimmung nach Monte Carlo liefert, hängt stark vom verwendeten Zufallsgenerator ab.\n",
    "    1. Implementieren Sie einen eigenen Generator für Zufallszahlen in Python. Verwenden Sie dafür einen [linearen Kongruenzgenerator](http://de.wikipedia.org/wiki/Kongruenzgenerator). Geeignete Einstellungen für die Parameter finden Sie in einer Tabelle auf [dieser Seite](http://en.wikipedia.org/wiki/Linear_congruential_generator). \n",
    "    1. Vergleichen Sie die Geschwindigkeit mit dem in der Python-Bibliothek vorhandenen Verfahren. Wie ändert sich die Genauigkeit Ihrer $\\pi$-Berechnung, wenn Sie ihren eigenen Generator verwenden? (Experiment)"
   ]
  },
  {
   "cell_type": "markdown",
   "metadata": {},
   "source": [
    "** Aufgabe 1A ** \n",
    "\n",
    "Erzeugung einer Wertetabelle für die Funktion $y(x) = \\cos(x)\\, e^{-x^2}$ für den Wertebereic $x = [0:7]$"
   ]
  },
  {
   "cell_type": "code",
   "execution_count": 40,
   "metadata": {},
   "outputs": [
    {
     "name": "stdout",
     "output_type": "stream",
     "text": [
      "[(0, 1.0), (1, 0.19876611034641298), (2, -0.007621995182886547), (3, -0.00012217478005274374), (4, -7.355789907801574e-08), (5, 3.939484508326299e-12), (6, 2.2271369008070363e-16), (7, 3.9526233208739075e-22), (8, -2.3335453879744942e-29), (9, -6.049610825683713e-36)]\n"
     ]
    }
   ],
   "source": [
    "import math\n",
    "x = range(10)\n",
    "#x = [0, 1, 2, 3, 4, 5, 6, 7]\n",
    "\n",
    "def cos(x):\n",
    "     return math.cos(x)\n",
    "     \n",
    "def mul(x,y):\n",
    "     return x * y\n",
    "     \n",
    "def exp(x):\n",
    "     return math.exp(x)\n",
    "     \n",
    "def negativ(x):\n",
    "     return -x\n",
    "     \n",
    "def squared(x):\n",
    "     return x*x\n",
    "     \n",
    "def function(x):\n",
    "    return mul(cos(x),exp(negativ(squared(x))))\n",
    "\n",
    "y = list(map(function, x))\n",
    "f = zip (x,y)\n",
    "print(list(f))\n"
   ]
  },
  {
   "cell_type": "markdown",
   "metadata": {},
   "source": [
    "**Aufgabe 1B** Re-Implementierung der Funktion max für Listen unter Verwendung von reduce."
   ]
  },
  {
   "cell_type": "code",
   "execution_count": 41,
   "metadata": {},
   "outputs": [
    {
     "name": "stdout",
     "output_type": "stream",
     "text": [
      "[156, 228, 308, 340, 269, 183, 455, 75, 311, 134, 398, 416, 120, 117, 355, 405, 421, 239, 267, 341, 255, 113, 422, 378, 339, 32, 175, 298, 312, 235, 324, 475, 465, 366, 426, 48, 225, 346, 258, 35, 70, 401, 28, 488, 102, 260, 184, 364, 207, 142, 219, 8, 237, 79, 496, 137, 331, 86, 191, 82, 60, 59, 158, 14, 415, 100, 303, 173, 316, 304, 381, 109, 493, 463, 323, 13, 106, 474, 80, 145, 111, 425, 449, 265, 92, 292, 418, 470, 123, 199, 99, 187, 286, 454, 195, 4, 328, 275, 27, 24, 104, 296, 21, 55, 166, 91, 204, 373, 332, 337, 369, 330, 185, 281, 439, 277, 136, 361, 377, 94, 442, 467, 41, 412, 436, 62, 61, 125, 78, 403, 51, 306, 152, 37, 447, 478, 98, 206, 300, 220, 348, 285, 119, 121, 289, 399, 96, 345, 54, 440, 344, 89, 350, 229, 392, 83, 390, 368, 56, 284, 29, 250, 200, 307, 249, 393, 388, 270, 65, 410, 287, 193, 76, 484, 485, 129, 17, 288, 295, 69, 149, 247, 177, 409, 365, 182, 218, 31, 487, 97, 497, 126, 314, 397, 67, 141, 165, 227, 469, 84, 162, 211, 58, 256, 413, 16, 190, 135, 7, 450, 202, 57, 371, 434, 427, 481, 116, 252, 457, 448, 248, 278, 293, 180, 223, 274, 453, 468, 464, 168, 499, 257, 110, 446, 290, 231, 243, 376, 42, 325, 435, 338, 333, 419, 246, 101, 385, 44, 460, 382, 49, 479, 72, 192, 394, 11, 363, 36, 164, 438, 406, 157, 391, 471, 387, 163, 400, 407, 81, 383, 322, 360, 236, 329, 317, 335, 153, 132, 476, 39, 179, 297, 71, 276, 494, 114, 144, 477, 148, 74, 370, 105, 347, 362, 411, 420, 273, 309, 208, 234, 263, 198, 209, 201, 176, 408, 221, 264, 351, 268, 147, 19, 112, 171, 170, 432, 108, 441, 216, 73, 122, 68, 310, 473, 85, 358, 359, 245, 124, 402, 458, 226, 336, 395, 321, 423, 396, 318, 50, 140, 194, 490, 203, 212, 334, 384, 459, 283, 186, 196, 302, 161, 33, 461, 445, 444, 279, 443, 462, 43, 327, 217, 241, 352, 430, 188, 238, 12, 404, 214, 146, 242, 230, 280, 205, 354, 197, 342, 154, 107, 486, 3, 151, 380, 15, 128, 46, 18, 169, 138, 160, 244, 213, 466, 26, 172, 320, 472, 349, 262, 9, 52, 38, 133, 0, 34, 343, 131, 95, 261, 429, 251, 372, 417, 259, 301, 167, 282, 253, 299, 181, 233, 414, 313, 215, 23, 452, 5, 375, 90, 491, 498, 451, 66, 115, 291, 374, 294, 210, 240, 155, 254, 386, 178, 30, 139, 20, 150, 456, 319, 159, 143, 489, 379, 25, 483, 431, 232, 222, 480, 45, 127, 353, 6, 428, 367, 1, 315, 118, 433, 63, 492, 495, 271, 93, 87, 53, 424, 356, 88, 305, 437, 2, 272, 189, 266, 64, 224, 482, 10, 357, 103, 130, 174, 40, 326, 389, 77, 47, 22]\n",
      "\n",
      "499\n"
     ]
    }
   ],
   "source": [
    "import functools\n",
    "from random import shuffle\n",
    "x = list(range(500))\n",
    "shuffle(x)\n",
    "print(x)\n",
    "\n",
    "def max(a,b):\n",
    "    if a < b:\n",
    "        return b\n",
    "    else:\n",
    "        return a\n",
    "\n",
    "maximum = functools.reduce(max,x)\n",
    "print()\n",
    "print(maximum)"
   ]
  },
  {
   "cell_type": "markdown",
   "metadata": {},
   "source": [
    "** Aufgabe 2A ** \n",
    "\n",
    "Welche Maßnahmen sollen helfen, um diese Krise zu überwinden?"
   ]
  },
  {
   "cell_type": "code",
   "execution_count": null,
   "metadata": {
    "collapsed": true
   },
   "outputs": [],
   "source": []
  },
  {
   "cell_type": "markdown",
   "metadata": {},
   "source": [
    "** Aufgabe 2B **\n",
    "\n",
    "Glauben Sie, dass die Softwarekrise bald überstanden sein wird?"
   ]
  },
  {
   "cell_type": "code",
   "execution_count": null,
   "metadata": {
    "collapsed": true
   },
   "outputs": [],
   "source": []
  },
  {
   "cell_type": "markdown",
   "metadata": {},
   "source": [
    "** Aufgabe 3 ** \n",
    "\n",
    "Nutzen Sie die in Listing 1 angegebene Funktion, um den von Ihrem TSP-Programm gefundenen kürzesten Weg grafisch auszugeben."
   ]
  },
  {
   "cell_type": "code",
   "execution_count": null,
   "metadata": {
    "collapsed": true
   },
   "outputs": [],
   "source": []
  },
  {
   "cell_type": "markdown",
   "metadata": {},
   "source": [
    "** Aufgabe 4A **\n",
    "\n",
    "Implementieren Sie einen eigenen Generator für Zufallszahlen in Python. Verwenden Sie dafür einen [linearen Kongruenzgenerator](http://de.wikipedia.org/wiki/Kongruenzgenerator). Geeignete Einstellungen für die Parameter finden Sie in einer Tabelle auf [dieser Seite](http://en.wikipedia.org/wiki/Linear_congruential_generator). "
   ]
  },
  {
   "cell_type": "code",
   "execution_count": null,
   "metadata": {
    "collapsed": true
   },
   "outputs": [],
   "source": []
  },
  {
   "cell_type": "markdown",
   "metadata": {},
   "source": [
    "** Aufgabe 4B **\n",
    "\n",
    "Vergleichen Sie die Geschwindigkeit mit dem in der Python-Bibliothek vorhandenen Verfahren. Wie ändert sich die Genauigkeit Ihrer $\\pi$-Berechnung, wenn Sie ihren eigenen Generator verwenden? (Experiment)"
   ]
  },
  {
   "cell_type": "code",
   "execution_count": null,
   "metadata": {},
   "outputs": [],
   "source": [
    "\n",
    "\n",
    "\n",
    "\n",
    "\n"
   ]
  }
 ],
 "metadata": {
  "kernelspec": {
   "display_name": "Python 3",
   "language": "python",
   "name": "python3"
  },
  "language_info": {
   "codemirror_mode": {
    "name": "ipython",
    "version": 3
   },
   "file_extension": ".py",
   "mimetype": "text/x-python",
   "name": "python",
   "nbconvert_exporter": "python",
   "pygments_lexer": "ipython3",
   "version": "3.6.3"
  },
  "latex_envs": {
   "LaTeX_envs_menu_present": true,
   "autocomplete": true,
   "bibliofile": "biblio.bib",
   "cite_by": "apalike",
   "current_citInitial": 1,
   "eqLabelWithNumbers": true,
   "eqNumInitial": 1,
   "hotkeys": {
    "equation": "Ctrl-E",
    "itemize": "Ctrl-I"
   },
   "labels_anchors": false,
   "latex_user_defs": false,
   "report_style_numbering": false,
   "user_envs_cfg": false
  }
 },
 "nbformat": 4,
 "nbformat_minor": 2
}
